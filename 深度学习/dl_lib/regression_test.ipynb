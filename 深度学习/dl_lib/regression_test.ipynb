{
 "cells": [
  {
   "cell_type": "code",
   "execution_count": 1,
   "metadata": {
    "collapsed": true,
    "ExecuteTime": {
     "end_time": "2024-03-29T09:00:51.475742756Z",
     "start_time": "2024-03-29T09:00:50.624097874Z"
    }
   },
   "outputs": [
    {
     "name": "stderr",
     "output_type": "stream",
     "text": [
      "2024-03-29 17:00:50.690250: I tensorflow/core/util/port.cc:110] oneDNN custom operations are on. You may see slightly different numerical results due to floating-point round-off errors from different computation orders. To turn them off, set the environment variable `TF_ENABLE_ONEDNN_OPTS=0`.\n",
      "2024-03-29 17:00:50.715017: I tensorflow/core/platform/cpu_feature_guard.cc:182] This TensorFlow binary is optimized to use available CPU instructions in performance-critical operations.\n",
      "To enable the following instructions: SSE4.1 SSE4.2 AVX AVX2 AVX_VNNI FMA, in other operations, rebuild TensorFlow with the appropriate compiler flags.\n"
     ]
    }
   ],
   "source": [
    "from keras.datasets import boston_housing\n",
    "(train_data, train_targets), (test_data, test_targets) = boston_housing.load_data()"
   ]
  },
  {
   "cell_type": "code",
   "execution_count": 2,
   "outputs": [
    {
     "data": {
      "text/plain": "(404, 13)"
     },
     "execution_count": 2,
     "metadata": {},
     "output_type": "execute_result"
    }
   ],
   "source": [
    "train_data.shape"
   ],
   "metadata": {
    "collapsed": false,
    "ExecuteTime": {
     "end_time": "2024-03-29T09:00:51.481500087Z",
     "start_time": "2024-03-29T09:00:51.477973379Z"
    }
   }
  },
  {
   "cell_type": "code",
   "execution_count": 3,
   "outputs": [
    {
     "data": {
      "text/plain": "(102, 13)"
     },
     "execution_count": 3,
     "metadata": {},
     "output_type": "execute_result"
    }
   ],
   "source": [
    "test_data.shape"
   ],
   "metadata": {
    "collapsed": false,
    "ExecuteTime": {
     "end_time": "2024-03-29T09:00:51.485767127Z",
     "start_time": "2024-03-29T09:00:51.481685589Z"
    }
   }
  },
  {
   "cell_type": "code",
   "execution_count": 4,
   "outputs": [
    {
     "data": {
      "text/plain": "array([15.2, 42.3, 50. , 21.1, 17.7, 18.5, 11.3, 15.6, 15.6, 14.4, 12.1,\n       17.9, 23.1, 19.9, 15.7,  8.8, 50. , 22.5, 24.1, 27.5, 10.9, 30.8,\n       32.9, 24. , 18.5, 13.3, 22.9, 34.7, 16.6, 17.5, 22.3, 16.1, 14.9,\n       23.1, 34.9, 25. , 13.9, 13.1, 20.4, 20. , 15.2, 24.7, 22.2, 16.7,\n       12.7, 15.6, 18.4, 21. , 30.1, 15.1, 18.7,  9.6, 31.5, 24.8, 19.1,\n       22. , 14.5, 11. , 32. , 29.4, 20.3, 24.4, 14.6, 19.5, 14.1, 14.3,\n       15.6, 10.5,  6.3, 19.3, 19.3, 13.4, 36.4, 17.8, 13.5, 16.5,  8.3,\n       14.3, 16. , 13.4, 28.6, 43.5, 20.2, 22. , 23. , 20.7, 12.5, 48.5,\n       14.6, 13.4, 23.7, 50. , 21.7, 39.8, 38.7, 22.2, 34.9, 22.5, 31.1,\n       28.7, 46. , 41.7, 21. , 26.6, 15. , 24.4, 13.3, 21.2, 11.7, 21.7,\n       19.4, 50. , 22.8, 19.7, 24.7, 36.2, 14.2, 18.9, 18.3, 20.6, 24.6,\n       18.2,  8.7, 44. , 10.4, 13.2, 21.2, 37. , 30.7, 22.9, 20. , 19.3,\n       31.7, 32. , 23.1, 18.8, 10.9, 50. , 19.6,  5. , 14.4, 19.8, 13.8,\n       19.6, 23.9, 24.5, 25. , 19.9, 17.2, 24.6, 13.5, 26.6, 21.4, 11.9,\n       22.6, 19.6,  8.5, 23.7, 23.1, 22.4, 20.5, 23.6, 18.4, 35.2, 23.1,\n       27.9, 20.6, 23.7, 28. , 13.6, 27.1, 23.6, 20.6, 18.2, 21.7, 17.1,\n        8.4, 25.3, 13.8, 22.2, 18.4, 20.7, 31.6, 30.5, 20.3,  8.8, 19.2,\n       19.4, 23.1, 23. , 14.8, 48.8, 22.6, 33.4, 21.1, 13.6, 32.2, 13.1,\n       23.4, 18.9, 23.9, 11.8, 23.3, 22.8, 19.6, 16.7, 13.4, 22.2, 20.4,\n       21.8, 26.4, 14.9, 24.1, 23.8, 12.3, 29.1, 21. , 19.5, 23.3, 23.8,\n       17.8, 11.5, 21.7, 19.9, 25. , 33.4, 28.5, 21.4, 24.3, 27.5, 33.1,\n       16.2, 23.3, 48.3, 22.9, 22.8, 13.1, 12.7, 22.6, 15. , 15.3, 10.5,\n       24. , 18.5, 21.7, 19.5, 33.2, 23.2,  5. , 19.1, 12.7, 22.3, 10.2,\n       13.9, 16.3, 17. , 20.1, 29.9, 17.2, 37.3, 45.4, 17.8, 23.2, 29. ,\n       22. , 18. , 17.4, 34.6, 20.1, 25. , 15.6, 24.8, 28.2, 21.2, 21.4,\n       23.8, 31. , 26.2, 17.4, 37.9, 17.5, 20. ,  8.3, 23.9,  8.4, 13.8,\n        7.2, 11.7, 17.1, 21.6, 50. , 16.1, 20.4, 20.6, 21.4, 20.6, 36.5,\n        8.5, 24.8, 10.8, 21.9, 17.3, 18.9, 36.2, 14.9, 18.2, 33.3, 21.8,\n       19.7, 31.6, 24.8, 19.4, 22.8,  7.5, 44.8, 16.8, 18.7, 50. , 50. ,\n       19.5, 20.1, 50. , 17.2, 20.8, 19.3, 41.3, 20.4, 20.5, 13.8, 16.5,\n       23.9, 20.6, 31.5, 23.3, 16.8, 14. , 33.8, 36.1, 12.8, 18.3, 18.7,\n       19.1, 29. , 30.1, 50. , 50. , 22. , 11.9, 37.6, 50. , 22.7, 20.8,\n       23.5, 27.9, 50. , 19.3, 23.9, 22.6, 15.2, 21.7, 19.2, 43.8, 20.3,\n       33.2, 19.9, 22.5, 32.7, 22. , 17.1, 19. , 15. , 16.1, 25.1, 23.7,\n       28.7, 37.2, 22.6, 16.4, 25. , 29.8, 22.1, 17.4, 18.1, 30.3, 17.5,\n       24.7, 12.6, 26.5, 28.7, 13.3, 10.4, 24.4, 23. , 20. , 17.8,  7. ,\n       11.8, 24.4, 13.8, 19.4, 25.2, 19.4, 19.4, 29.1])"
     },
     "execution_count": 4,
     "metadata": {},
     "output_type": "execute_result"
    }
   ],
   "source": [
    "train_targets"
   ],
   "metadata": {
    "collapsed": false,
    "ExecuteTime": {
     "end_time": "2024-03-29T09:00:51.490779311Z",
     "start_time": "2024-03-29T09:00:51.485941092Z"
    }
   }
  },
  {
   "cell_type": "code",
   "execution_count": 5,
   "outputs": [
    {
     "data": {
      "text/plain": "array([[1.23247e+00, 0.00000e+00, 8.14000e+00, ..., 2.10000e+01,\n        3.96900e+02, 1.87200e+01],\n       [2.17700e-02, 8.25000e+01, 2.03000e+00, ..., 1.47000e+01,\n        3.95380e+02, 3.11000e+00],\n       [4.89822e+00, 0.00000e+00, 1.81000e+01, ..., 2.02000e+01,\n        3.75520e+02, 3.26000e+00],\n       ...,\n       [3.46600e-02, 3.50000e+01, 6.06000e+00, ..., 1.69000e+01,\n        3.62250e+02, 7.83000e+00],\n       [2.14918e+00, 0.00000e+00, 1.95800e+01, ..., 1.47000e+01,\n        2.61950e+02, 1.57900e+01],\n       [1.43900e-02, 6.00000e+01, 2.93000e+00, ..., 1.56000e+01,\n        3.76700e+02, 4.38000e+00]])"
     },
     "execution_count": 5,
     "metadata": {},
     "output_type": "execute_result"
    }
   ],
   "source": [
    "train_data"
   ],
   "metadata": {
    "collapsed": false,
    "ExecuteTime": {
     "end_time": "2024-03-29T09:00:51.493638978Z",
     "start_time": "2024-03-29T09:00:51.491816749Z"
    }
   }
  },
  {
   "cell_type": "code",
   "execution_count": 6,
   "outputs": [],
   "source": [
    "mean = train_data.mean(axis=0)\n",
    "train_data -= mean\n",
    "std = train_data.std(axis=0)\n",
    "train_data /= std\n",
    "\n",
    "test_data -= mean\n",
    "test_data /= std"
   ],
   "metadata": {
    "collapsed": false,
    "ExecuteTime": {
     "end_time": "2024-03-29T09:00:51.539758703Z",
     "start_time": "2024-03-29T09:00:51.494442748Z"
    }
   }
  },
  {
   "cell_type": "code",
   "execution_count": 7,
   "outputs": [
    {
     "data": {
      "text/plain": "array([[-0.27224633, -0.48361547, -0.43576161, ...,  1.14850044,\n         0.44807713,  0.8252202 ],\n       [-0.40342651,  2.99178419, -1.33391162, ..., -1.71818909,\n         0.43190599, -1.32920239],\n       [ 0.1249402 , -0.48361547,  1.0283258 , ...,  0.78447637,\n         0.22061726, -1.30850006],\n       ...,\n       [-0.40202987,  0.99079651, -0.7415148 , ..., -0.71712291,\n         0.07943894, -0.67776904],\n       [-0.17292018, -0.48361547,  1.24588095, ..., -1.71818909,\n        -0.98764362,  0.42083466],\n       [-0.40422614,  2.04394792, -1.20161456, ..., -1.30866202,\n         0.23317118, -1.15392266]])"
     },
     "execution_count": 7,
     "metadata": {},
     "output_type": "execute_result"
    }
   ],
   "source": [
    "train_data"
   ],
   "metadata": {
    "collapsed": false,
    "ExecuteTime": {
     "end_time": "2024-03-29T09:00:51.540264536Z",
     "start_time": "2024-03-29T09:00:51.539589672Z"
    }
   }
  },
  {
   "cell_type": "code",
   "execution_count": 8,
   "outputs": [],
   "source": [
    "from keras import models\n",
    "from keras import layers\n",
    "def build_model():\n",
    "    model = models.Sequential()\n",
    "    model.add(layers.Dense(64, activation='relu',\n",
    "        input_shape=(train_data.shape[1],)))\n",
    "    model.add(layers.Dense(64, activation='relu'))\n",
    "    model.add(layers.Dense(1))\n",
    "    model.compile(optimizer='rmsprop', loss='mse', metrics=['mae'])\n",
    "    return model"
   ],
   "metadata": {
    "collapsed": false,
    "ExecuteTime": {
     "end_time": "2024-03-29T09:00:51.541218737Z",
     "start_time": "2024-03-29T09:00:51.540380194Z"
    }
   }
  },
  {
   "cell_type": "code",
   "execution_count": 9,
   "outputs": [
    {
     "name": "stdout",
     "output_type": "stream",
     "text": [
      "processing fold # 0\n",
      "Epoch 1/100\n"
     ]
    },
    {
     "name": "stderr",
     "output_type": "stream",
     "text": [
      "2024-03-29 17:00:51.541029: I tensorflow/compiler/xla/stream_executor/cuda/cuda_gpu_executor.cc:995] successful NUMA node read from SysFS had negative value (-1), but there must be at least one NUMA node, so returning NUMA node zero. See more at https://github.com/torvalds/linux/blob/v6.0/Documentation/ABI/testing/sysfs-bus-pci#L344-L355\n",
      "2024-03-29 17:00:51.556035: I tensorflow/compiler/xla/stream_executor/cuda/cuda_gpu_executor.cc:995] successful NUMA node read from SysFS had negative value (-1), but there must be at least one NUMA node, so returning NUMA node zero. See more at https://github.com/torvalds/linux/blob/v6.0/Documentation/ABI/testing/sysfs-bus-pci#L344-L355\n",
      "2024-03-29 17:00:51.556146: I tensorflow/compiler/xla/stream_executor/cuda/cuda_gpu_executor.cc:995] successful NUMA node read from SysFS had negative value (-1), but there must be at least one NUMA node, so returning NUMA node zero. See more at https://github.com/torvalds/linux/blob/v6.0/Documentation/ABI/testing/sysfs-bus-pci#L344-L355\n",
      "2024-03-29 17:00:51.556896: I tensorflow/compiler/xla/stream_executor/cuda/cuda_gpu_executor.cc:995] successful NUMA node read from SysFS had negative value (-1), but there must be at least one NUMA node, so returning NUMA node zero. See more at https://github.com/torvalds/linux/blob/v6.0/Documentation/ABI/testing/sysfs-bus-pci#L344-L355\n",
      "2024-03-29 17:00:51.556980: I tensorflow/compiler/xla/stream_executor/cuda/cuda_gpu_executor.cc:995] successful NUMA node read from SysFS had negative value (-1), but there must be at least one NUMA node, so returning NUMA node zero. See more at https://github.com/torvalds/linux/blob/v6.0/Documentation/ABI/testing/sysfs-bus-pci#L344-L355\n",
      "2024-03-29 17:00:51.557029: I tensorflow/compiler/xla/stream_executor/cuda/cuda_gpu_executor.cc:995] successful NUMA node read from SysFS had negative value (-1), but there must be at least one NUMA node, so returning NUMA node zero. See more at https://github.com/torvalds/linux/blob/v6.0/Documentation/ABI/testing/sysfs-bus-pci#L344-L355\n",
      "2024-03-29 17:00:51.590239: I tensorflow/compiler/xla/stream_executor/cuda/cuda_gpu_executor.cc:995] successful NUMA node read from SysFS had negative value (-1), but there must be at least one NUMA node, so returning NUMA node zero. See more at https://github.com/torvalds/linux/blob/v6.0/Documentation/ABI/testing/sysfs-bus-pci#L344-L355\n",
      "2024-03-29 17:00:51.590350: I tensorflow/compiler/xla/stream_executor/cuda/cuda_gpu_executor.cc:995] successful NUMA node read from SysFS had negative value (-1), but there must be at least one NUMA node, so returning NUMA node zero. See more at https://github.com/torvalds/linux/blob/v6.0/Documentation/ABI/testing/sysfs-bus-pci#L344-L355\n",
      "2024-03-29 17:00:51.590407: I tensorflow/compiler/xla/stream_executor/cuda/cuda_gpu_executor.cc:995] successful NUMA node read from SysFS had negative value (-1), but there must be at least one NUMA node, so returning NUMA node zero. See more at https://github.com/torvalds/linux/blob/v6.0/Documentation/ABI/testing/sysfs-bus-pci#L344-L355\n",
      "2024-03-29 17:00:51.590458: I tensorflow/core/common_runtime/gpu/gpu_device.cc:1639] Created device /job:localhost/replica:0/task:0/device:GPU:0 with 1135 MB memory:  -> device: 0, name: NVIDIA GeForce RTX 4060 Ti, pci bus id: 0000:01:00.0, compute capability: 8.9\n",
      "2024-03-29 17:00:51.869694: I tensorflow/compiler/xla/stream_executor/cuda/cuda_blas.cc:606] TensorFloat-32 will be used for the matrix multiplication. This will only be logged once.\n",
      "2024-03-29 17:00:51.875022: I tensorflow/compiler/xla/service/service.cc:168] XLA service 0x7279f57823b0 initialized for platform CUDA (this does not guarantee that XLA will be used). Devices:\n",
      "2024-03-29 17:00:51.875038: I tensorflow/compiler/xla/service/service.cc:176]   StreamExecutor device (0): NVIDIA GeForce RTX 4060 Ti, Compute Capability 8.9\n",
      "2024-03-29 17:00:51.877300: I tensorflow/compiler/mlir/tensorflow/utils/dump_mlir_util.cc:255] disabling MLIR crash reproducer, set env var `MLIR_CRASH_REPRODUCER_DIRECTORY` to enable.\n",
      "2024-03-29 17:00:51.883110: I tensorflow/compiler/xla/stream_executor/cuda/cuda_dnn.cc:432] Loaded cuDNN version 8907\n",
      "2024-03-29 17:00:51.908927: I tensorflow/tsl/platform/default/subprocess.cc:304] Start cannot spawn child process: No such file or directory\n",
      "2024-03-29 17:00:51.934914: I ./tensorflow/compiler/jit/device_compiler.h:186] Compiled cluster using XLA!  This line is logged at most once for the lifetime of the process.\n"
     ]
    },
    {
     "name": "stdout",
     "output_type": "stream",
     "text": [
      "303/303 [==============================] - 1s 1ms/step - loss: 212.5369 - mae: 10.6975\n",
      "Epoch 2/100\n",
      "303/303 [==============================] - 0s 2ms/step - loss: 28.8901 - mae: 3.6451\n",
      "Epoch 3/100\n",
      "303/303 [==============================] - 0s 1ms/step - loss: 19.8200 - mae: 2.9658\n",
      "Epoch 4/100\n",
      "303/303 [==============================] - 1s 2ms/step - loss: 16.4747 - mae: 2.7158\n",
      "Epoch 5/100\n",
      "303/303 [==============================] - 0s 812us/step - loss: 15.0127 - mae: 2.5395\n",
      "Epoch 6/100\n",
      "303/303 [==============================] - 0s 830us/step - loss: 13.0940 - mae: 2.4357\n",
      "Epoch 7/100\n",
      "303/303 [==============================] - 0s 741us/step - loss: 12.9581 - mae: 2.4752\n",
      "Epoch 8/100\n",
      "303/303 [==============================] - 0s 877us/step - loss: 12.3870 - mae: 2.3140\n",
      "Epoch 9/100\n",
      "303/303 [==============================] - 0s 884us/step - loss: 11.5334 - mae: 2.2549\n",
      "Epoch 10/100\n",
      "303/303 [==============================] - 0s 859us/step - loss: 11.7047 - mae: 2.2853\n",
      "Epoch 11/100\n",
      "303/303 [==============================] - 0s 1ms/step - loss: 11.0564 - mae: 2.1763\n",
      "Epoch 12/100\n",
      "303/303 [==============================] - 0s 1ms/step - loss: 10.5602 - mae: 2.2027\n",
      "Epoch 13/100\n",
      "303/303 [==============================] - 0s 795us/step - loss: 10.2922 - mae: 2.1633\n",
      "Epoch 14/100\n",
      "303/303 [==============================] - 0s 789us/step - loss: 10.3364 - mae: 2.1108\n",
      "Epoch 15/100\n",
      "303/303 [==============================] - 0s 783us/step - loss: 9.9448 - mae: 2.0691\n",
      "Epoch 16/100\n",
      "303/303 [==============================] - 0s 896us/step - loss: 9.6454 - mae: 2.0449\n",
      "Epoch 17/100\n",
      "303/303 [==============================] - 0s 909us/step - loss: 9.5512 - mae: 2.1328\n",
      "Epoch 18/100\n",
      "303/303 [==============================] - 0s 867us/step - loss: 9.3578 - mae: 2.0051\n",
      "Epoch 19/100\n",
      "303/303 [==============================] - 0s 866us/step - loss: 9.1331 - mae: 1.9772\n",
      "Epoch 20/100\n",
      "303/303 [==============================] - 0s 1ms/step - loss: 8.8649 - mae: 2.0139\n",
      "Epoch 21/100\n",
      "303/303 [==============================] - 0s 897us/step - loss: 9.0998 - mae: 2.0382\n",
      "Epoch 22/100\n",
      "303/303 [==============================] - 0s 1ms/step - loss: 8.6435 - mae: 1.9090\n",
      "Epoch 23/100\n",
      "303/303 [==============================] - 0s 877us/step - loss: 8.7943 - mae: 1.9486\n",
      "Epoch 24/100\n",
      "303/303 [==============================] - 0s 881us/step - loss: 8.5557 - mae: 1.9507\n",
      "Epoch 25/100\n",
      "303/303 [==============================] - 0s 895us/step - loss: 8.3557 - mae: 1.9363\n",
      "Epoch 26/100\n",
      "303/303 [==============================] - 0s 837us/step - loss: 7.9990 - mae: 1.8436\n",
      "Epoch 27/100\n",
      "303/303 [==============================] - 0s 1ms/step - loss: 8.1253 - mae: 1.8935\n",
      "Epoch 28/100\n",
      "303/303 [==============================] - 0s 905us/step - loss: 7.8195 - mae: 1.8143\n",
      "Epoch 29/100\n",
      "303/303 [==============================] - 0s 1ms/step - loss: 7.3726 - mae: 1.8270\n",
      "Epoch 30/100\n",
      "303/303 [==============================] - 0s 992us/step - loss: 7.9634 - mae: 1.8218\n",
      "Epoch 31/100\n",
      "303/303 [==============================] - 0s 715us/step - loss: 7.7594 - mae: 1.8161\n",
      "Epoch 32/100\n",
      "303/303 [==============================] - 0s 1ms/step - loss: 7.8618 - mae: 1.8172\n",
      "Epoch 33/100\n",
      "303/303 [==============================] - 0s 813us/step - loss: 7.4892 - mae: 1.7974\n",
      "Epoch 34/100\n",
      "303/303 [==============================] - 0s 745us/step - loss: 7.5906 - mae: 1.7681\n",
      "Epoch 35/100\n",
      "303/303 [==============================] - 0s 973us/step - loss: 7.0254 - mae: 1.7151\n",
      "Epoch 36/100\n",
      "303/303 [==============================] - 0s 888us/step - loss: 7.1968 - mae: 1.7995\n",
      "Epoch 37/100\n",
      "303/303 [==============================] - 0s 764us/step - loss: 6.9531 - mae: 1.7939\n",
      "Epoch 38/100\n",
      "303/303 [==============================] - 0s 920us/step - loss: 7.0712 - mae: 1.7583\n",
      "Epoch 39/100\n",
      "303/303 [==============================] - 0s 862us/step - loss: 6.9005 - mae: 1.7241\n",
      "Epoch 40/100\n",
      "303/303 [==============================] - 0s 986us/step - loss: 6.7024 - mae: 1.7369\n",
      "Epoch 41/100\n",
      "303/303 [==============================] - 0s 888us/step - loss: 7.1750 - mae: 1.7100\n",
      "Epoch 42/100\n",
      "303/303 [==============================] - 0s 909us/step - loss: 6.9123 - mae: 1.7343\n",
      "Epoch 43/100\n",
      "303/303 [==============================] - 0s 826us/step - loss: 7.0840 - mae: 1.7204\n",
      "Epoch 44/100\n",
      "303/303 [==============================] - 0s 818us/step - loss: 7.0481 - mae: 1.6861\n",
      "Epoch 45/100\n",
      "303/303 [==============================] - 0s 758us/step - loss: 6.8677 - mae: 1.6384\n",
      "Epoch 46/100\n",
      "303/303 [==============================] - 0s 905us/step - loss: 6.6035 - mae: 1.6777\n",
      "Epoch 47/100\n",
      "303/303 [==============================] - 0s 1ms/step - loss: 6.3107 - mae: 1.6767\n",
      "Epoch 48/100\n",
      "303/303 [==============================] - 0s 1ms/step - loss: 6.2400 - mae: 1.6764\n",
      "Epoch 49/100\n",
      "303/303 [==============================] - 0s 1ms/step - loss: 6.5916 - mae: 1.6768\n",
      "Epoch 50/100\n",
      "303/303 [==============================] - 0s 905us/step - loss: 6.1177 - mae: 1.5985\n",
      "Epoch 51/100\n",
      "303/303 [==============================] - 0s 797us/step - loss: 6.4584 - mae: 1.6195\n",
      "Epoch 52/100\n",
      "303/303 [==============================] - 0s 807us/step - loss: 6.4012 - mae: 1.5819\n",
      "Epoch 53/100\n",
      "303/303 [==============================] - 1s 2ms/step - loss: 6.5850 - mae: 1.6402\n",
      "Epoch 54/100\n",
      "303/303 [==============================] - 0s 856us/step - loss: 5.8761 - mae: 1.6012\n",
      "Epoch 55/100\n",
      "303/303 [==============================] - 0s 1ms/step - loss: 5.9806 - mae: 1.5915\n",
      "Epoch 56/100\n",
      "303/303 [==============================] - 0s 725us/step - loss: 5.9314 - mae: 1.5890\n",
      "Epoch 57/100\n",
      "303/303 [==============================] - 0s 875us/step - loss: 6.2813 - mae: 1.6021\n",
      "Epoch 58/100\n",
      "303/303 [==============================] - 0s 1ms/step - loss: 5.8824 - mae: 1.5814\n",
      "Epoch 59/100\n",
      "303/303 [==============================] - 0s 1ms/step - loss: 5.7204 - mae: 1.5442\n",
      "Epoch 60/100\n",
      "303/303 [==============================] - 0s 861us/step - loss: 5.8445 - mae: 1.5565\n",
      "Epoch 61/100\n",
      "303/303 [==============================] - 0s 853us/step - loss: 5.5526 - mae: 1.5783\n",
      "Epoch 62/100\n",
      "303/303 [==============================] - 0s 995us/step - loss: 5.5017 - mae: 1.5840\n",
      "Epoch 63/100\n",
      "303/303 [==============================] - 0s 860us/step - loss: 5.7101 - mae: 1.5688\n",
      "Epoch 64/100\n",
      "303/303 [==============================] - 0s 831us/step - loss: 5.7190 - mae: 1.5877\n",
      "Epoch 65/100\n",
      "303/303 [==============================] - 0s 921us/step - loss: 5.1552 - mae: 1.5164\n",
      "Epoch 66/100\n",
      "303/303 [==============================] - 0s 909us/step - loss: 5.4260 - mae: 1.5578\n",
      "Epoch 67/100\n",
      "303/303 [==============================] - 0s 1ms/step - loss: 5.4434 - mae: 1.5506\n",
      "Epoch 68/100\n",
      "303/303 [==============================] - 0s 1ms/step - loss: 5.3012 - mae: 1.5186\n",
      "Epoch 69/100\n",
      "303/303 [==============================] - 0s 810us/step - loss: 5.1958 - mae: 1.5517\n",
      "Epoch 70/100\n",
      "303/303 [==============================] - 0s 730us/step - loss: 5.4806 - mae: 1.5731\n",
      "Epoch 71/100\n",
      "303/303 [==============================] - 0s 765us/step - loss: 5.2135 - mae: 1.5147\n",
      "Epoch 72/100\n",
      "303/303 [==============================] - 0s 1ms/step - loss: 5.2218 - mae: 1.5174\n",
      "Epoch 73/100\n",
      "303/303 [==============================] - 0s 945us/step - loss: 5.2423 - mae: 1.5002\n",
      "Epoch 74/100\n",
      "303/303 [==============================] - 0s 1ms/step - loss: 5.0986 - mae: 1.5144\n",
      "Epoch 75/100\n",
      "303/303 [==============================] - 0s 803us/step - loss: 5.0212 - mae: 1.5202\n",
      "Epoch 76/100\n",
      "303/303 [==============================] - 0s 729us/step - loss: 4.8955 - mae: 1.5150\n",
      "Epoch 77/100\n",
      "303/303 [==============================] - 0s 897us/step - loss: 4.9780 - mae: 1.4662\n",
      "Epoch 78/100\n",
      "303/303 [==============================] - 0s 1ms/step - loss: 4.9079 - mae: 1.4521\n",
      "Epoch 79/100\n",
      "303/303 [==============================] - 0s 2ms/step - loss: 4.7883 - mae: 1.4569\n",
      "Epoch 80/100\n",
      "303/303 [==============================] - 0s 1ms/step - loss: 4.8494 - mae: 1.4647\n",
      "Epoch 81/100\n",
      "303/303 [==============================] - 0s 746us/step - loss: 4.7902 - mae: 1.4480\n",
      "Epoch 82/100\n",
      "303/303 [==============================] - 0s 804us/step - loss: 4.8054 - mae: 1.4780\n",
      "Epoch 83/100\n",
      "303/303 [==============================] - 0s 1ms/step - loss: 4.3207 - mae: 1.4089\n",
      "Epoch 84/100\n",
      "303/303 [==============================] - 0s 824us/step - loss: 4.4792 - mae: 1.4388\n",
      "Epoch 85/100\n",
      "303/303 [==============================] - 0s 880us/step - loss: 4.6117 - mae: 1.4740\n",
      "Epoch 86/100\n",
      "303/303 [==============================] - 0s 1ms/step - loss: 4.1985 - mae: 1.3674\n",
      "Epoch 87/100\n",
      "303/303 [==============================] - 0s 839us/step - loss: 4.6087 - mae: 1.4026\n",
      "Epoch 88/100\n",
      "303/303 [==============================] - 0s 806us/step - loss: 4.4907 - mae: 1.4755\n",
      "Epoch 89/100\n",
      "303/303 [==============================] - 0s 1ms/step - loss: 4.2691 - mae: 1.4245\n",
      "Epoch 90/100\n",
      "303/303 [==============================] - 0s 2ms/step - loss: 4.4429 - mae: 1.4136\n",
      "Epoch 91/100\n",
      "303/303 [==============================] - 0s 1ms/step - loss: 4.1191 - mae: 1.3984\n",
      "Epoch 92/100\n",
      "303/303 [==============================] - 0s 1ms/step - loss: 4.4181 - mae: 1.4727\n",
      "Epoch 93/100\n",
      "303/303 [==============================] - 0s 1ms/step - loss: 4.3579 - mae: 1.3793\n",
      "Epoch 94/100\n",
      "303/303 [==============================] - 0s 916us/step - loss: 4.2788 - mae: 1.3832\n",
      "Epoch 95/100\n",
      "303/303 [==============================] - 0s 865us/step - loss: 4.0597 - mae: 1.3910\n",
      "Epoch 96/100\n",
      "303/303 [==============================] - 0s 720us/step - loss: 4.1021 - mae: 1.3996\n",
      "Epoch 97/100\n",
      "303/303 [==============================] - 0s 1ms/step - loss: 4.2782 - mae: 1.3275\n",
      "Epoch 98/100\n",
      "303/303 [==============================] - 0s 745us/step - loss: 4.0919 - mae: 1.3671\n",
      "Epoch 99/100\n",
      "303/303 [==============================] - 0s 775us/step - loss: 3.6415 - mae: 1.3114\n",
      "Epoch 100/100\n",
      "303/303 [==============================] - 0s 1ms/step - loss: 4.2423 - mae: 1.4071\n",
      "4/4 [==============================] - 0s 2ms/step - loss: 8.8598 - mae: 2.1793\n",
      "processing fold # 1\n",
      "Epoch 1/100\n",
      "303/303 [==============================] - 1s 2ms/step - loss: 204.3174 - mae: 10.7611\n",
      "Epoch 2/100\n",
      "303/303 [==============================] - 0s 807us/step - loss: 29.1972 - mae: 3.3668\n",
      "Epoch 3/100\n",
      "303/303 [==============================] - 0s 760us/step - loss: 19.7870 - mae: 2.7953\n",
      "Epoch 4/100\n",
      "303/303 [==============================] - 0s 937us/step - loss: 16.1251 - mae: 2.5508\n",
      "Epoch 5/100\n",
      "303/303 [==============================] - 1s 2ms/step - loss: 14.9016 - mae: 2.4940\n",
      "Epoch 6/100\n",
      "303/303 [==============================] - 0s 1ms/step - loss: 14.0416 - mae: 2.4021\n",
      "Epoch 7/100\n",
      "303/303 [==============================] - 0s 1ms/step - loss: 12.8805 - mae: 2.2772\n",
      "Epoch 8/100\n",
      "303/303 [==============================] - 0s 1ms/step - loss: 12.1106 - mae: 2.2878\n",
      "Epoch 9/100\n",
      "303/303 [==============================] - 0s 1ms/step - loss: 11.4411 - mae: 2.2483\n",
      "Epoch 10/100\n",
      "303/303 [==============================] - 0s 1ms/step - loss: 11.6548 - mae: 2.2208\n",
      "Epoch 11/100\n",
      "303/303 [==============================] - 0s 1ms/step - loss: 10.7295 - mae: 2.1333\n",
      "Epoch 12/100\n",
      "303/303 [==============================] - 0s 782us/step - loss: 10.8638 - mae: 2.1579\n",
      "Epoch 13/100\n",
      "303/303 [==============================] - 0s 846us/step - loss: 10.5261 - mae: 2.1077\n",
      "Epoch 14/100\n",
      "303/303 [==============================] - 0s 1ms/step - loss: 9.7360 - mae: 2.0884\n",
      "Epoch 15/100\n",
      "303/303 [==============================] - 0s 1ms/step - loss: 9.8763 - mae: 2.0613\n",
      "Epoch 16/100\n",
      "303/303 [==============================] - 0s 858us/step - loss: 10.1524 - mae: 2.1293\n",
      "Epoch 17/100\n",
      "303/303 [==============================] - 0s 987us/step - loss: 9.8647 - mae: 2.0415\n",
      "Epoch 18/100\n",
      "303/303 [==============================] - 1s 2ms/step - loss: 9.2831 - mae: 2.0092\n",
      "Epoch 19/100\n",
      "303/303 [==============================] - 0s 2ms/step - loss: 9.5322 - mae: 2.0092\n",
      "Epoch 20/100\n",
      "303/303 [==============================] - 0s 1ms/step - loss: 9.2594 - mae: 1.9630\n",
      "Epoch 21/100\n",
      "303/303 [==============================] - 0s 715us/step - loss: 9.1969 - mae: 1.9871\n",
      "Epoch 22/100\n",
      "303/303 [==============================] - 0s 807us/step - loss: 8.1365 - mae: 1.9442\n",
      "Epoch 23/100\n",
      "303/303 [==============================] - 0s 856us/step - loss: 8.9909 - mae: 1.9092\n",
      "Epoch 24/100\n",
      "303/303 [==============================] - 0s 2ms/step - loss: 8.6559 - mae: 1.8906\n",
      "Epoch 25/100\n",
      "303/303 [==============================] - 0s 1ms/step - loss: 8.7587 - mae: 1.9241\n",
      "Epoch 26/100\n",
      "303/303 [==============================] - 1s 2ms/step - loss: 8.2799 - mae: 1.8779\n",
      "Epoch 27/100\n",
      "303/303 [==============================] - 1s 2ms/step - loss: 7.7507 - mae: 1.8626\n",
      "Epoch 28/100\n",
      "303/303 [==============================] - 0s 1ms/step - loss: 8.2537 - mae: 1.8454\n",
      "Epoch 29/100\n",
      "303/303 [==============================] - 0s 919us/step - loss: 7.9426 - mae: 1.8201\n",
      "Epoch 30/100\n",
      "303/303 [==============================] - 0s 1ms/step - loss: 7.7167 - mae: 1.8872\n",
      "Epoch 31/100\n",
      "303/303 [==============================] - 0s 1ms/step - loss: 7.7888 - mae: 1.8168\n",
      "Epoch 32/100\n",
      "303/303 [==============================] - 0s 850us/step - loss: 7.2835 - mae: 1.7789\n",
      "Epoch 33/100\n",
      "303/303 [==============================] - 0s 897us/step - loss: 7.8337 - mae: 1.7922\n",
      "Epoch 34/100\n",
      "303/303 [==============================] - 0s 964us/step - loss: 7.2958 - mae: 1.8016\n",
      "Epoch 35/100\n",
      "303/303 [==============================] - 0s 711us/step - loss: 7.1144 - mae: 1.7551\n",
      "Epoch 36/100\n",
      "303/303 [==============================] - 0s 921us/step - loss: 7.5249 - mae: 1.8256\n",
      "Epoch 37/100\n",
      "303/303 [==============================] - 0s 858us/step - loss: 6.7016 - mae: 1.6840\n",
      "Epoch 38/100\n",
      "303/303 [==============================] - 0s 952us/step - loss: 6.8318 - mae: 1.7610\n",
      "Epoch 39/100\n",
      "303/303 [==============================] - 0s 749us/step - loss: 7.0860 - mae: 1.7965\n",
      "Epoch 40/100\n",
      "303/303 [==============================] - 0s 1ms/step - loss: 6.3815 - mae: 1.6675\n",
      "Epoch 41/100\n",
      "303/303 [==============================] - 0s 907us/step - loss: 6.9082 - mae: 1.7117\n",
      "Epoch 42/100\n",
      "303/303 [==============================] - 0s 781us/step - loss: 6.6912 - mae: 1.6706\n",
      "Epoch 43/100\n",
      "303/303 [==============================] - 0s 2ms/step - loss: 6.6781 - mae: 1.7068\n",
      "Epoch 44/100\n",
      "303/303 [==============================] - 0s 957us/step - loss: 6.8545 - mae: 1.6913\n",
      "Epoch 45/100\n",
      "303/303 [==============================] - 0s 753us/step - loss: 6.3021 - mae: 1.5841\n",
      "Epoch 46/100\n",
      "303/303 [==============================] - 0s 2ms/step - loss: 6.7370 - mae: 1.6456\n",
      "Epoch 47/100\n",
      "303/303 [==============================] - 0s 789us/step - loss: 6.6536 - mae: 1.6539\n",
      "Epoch 48/100\n",
      "303/303 [==============================] - 0s 870us/step - loss: 6.4069 - mae: 1.6319\n",
      "Epoch 49/100\n",
      "303/303 [==============================] - 0s 2ms/step - loss: 6.0061 - mae: 1.6805\n",
      "Epoch 50/100\n",
      "303/303 [==============================] - 0s 1ms/step - loss: 6.2920 - mae: 1.6027\n",
      "Epoch 51/100\n",
      "303/303 [==============================] - 0s 1ms/step - loss: 6.0221 - mae: 1.6061\n",
      "Epoch 52/100\n",
      "303/303 [==============================] - 0s 675us/step - loss: 6.2954 - mae: 1.6078\n",
      "Epoch 53/100\n",
      "303/303 [==============================] - 0s 701us/step - loss: 5.7967 - mae: 1.6058\n",
      "Epoch 54/100\n",
      "303/303 [==============================] - 0s 1ms/step - loss: 6.0325 - mae: 1.6078\n",
      "Epoch 55/100\n",
      "303/303 [==============================] - 0s 895us/step - loss: 5.8292 - mae: 1.6227\n",
      "Epoch 56/100\n",
      "303/303 [==============================] - 0s 903us/step - loss: 6.0300 - mae: 1.6436\n",
      "Epoch 57/100\n",
      "303/303 [==============================] - 0s 716us/step - loss: 5.6236 - mae: 1.5642\n",
      "Epoch 58/100\n",
      "303/303 [==============================] - 0s 865us/step - loss: 5.9168 - mae: 1.5581\n",
      "Epoch 59/100\n",
      "303/303 [==============================] - 0s 893us/step - loss: 5.1953 - mae: 1.5262\n",
      "Epoch 60/100\n",
      "303/303 [==============================] - 0s 2ms/step - loss: 5.6742 - mae: 1.5812\n",
      "Epoch 61/100\n",
      "303/303 [==============================] - 1s 2ms/step - loss: 6.0734 - mae: 1.5845\n",
      "Epoch 62/100\n",
      "303/303 [==============================] - 0s 1ms/step - loss: 5.7344 - mae: 1.5316\n",
      "Epoch 63/100\n",
      "303/303 [==============================] - 0s 1ms/step - loss: 5.4938 - mae: 1.4959\n",
      "Epoch 64/100\n",
      "303/303 [==============================] - 0s 1ms/step - loss: 5.8881 - mae: 1.5595\n",
      "Epoch 65/100\n",
      "303/303 [==============================] - 0s 986us/step - loss: 5.5116 - mae: 1.5508\n",
      "Epoch 66/100\n",
      "303/303 [==============================] - 0s 1ms/step - loss: 5.5241 - mae: 1.5059\n",
      "Epoch 67/100\n",
      "303/303 [==============================] - 0s 776us/step - loss: 5.4832 - mae: 1.5565\n",
      "Epoch 68/100\n",
      "303/303 [==============================] - 0s 845us/step - loss: 5.3797 - mae: 1.5910\n",
      "Epoch 69/100\n",
      "303/303 [==============================] - 0s 1ms/step - loss: 5.3579 - mae: 1.4633\n",
      "Epoch 70/100\n",
      "303/303 [==============================] - 0s 694us/step - loss: 5.1181 - mae: 1.5103\n",
      "Epoch 71/100\n",
      "303/303 [==============================] - 0s 753us/step - loss: 5.0296 - mae: 1.4958\n",
      "Epoch 72/100\n",
      "303/303 [==============================] - 0s 808us/step - loss: 5.4180 - mae: 1.5072\n",
      "Epoch 73/100\n",
      "303/303 [==============================] - 0s 1ms/step - loss: 5.0683 - mae: 1.5049\n",
      "Epoch 74/100\n",
      "303/303 [==============================] - 0s 1ms/step - loss: 5.2826 - mae: 1.4162\n",
      "Epoch 75/100\n",
      "303/303 [==============================] - 0s 1ms/step - loss: 5.2259 - mae: 1.4568\n",
      "Epoch 76/100\n",
      "303/303 [==============================] - 0s 694us/step - loss: 5.1296 - mae: 1.4891\n",
      "Epoch 77/100\n",
      "303/303 [==============================] - 0s 755us/step - loss: 5.0851 - mae: 1.5040\n",
      "Epoch 78/100\n",
      "303/303 [==============================] - 0s 712us/step - loss: 5.0620 - mae: 1.4921\n",
      "Epoch 79/100\n",
      "303/303 [==============================] - 0s 714us/step - loss: 4.3918 - mae: 1.3630\n",
      "Epoch 80/100\n",
      "303/303 [==============================] - 0s 843us/step - loss: 4.5449 - mae: 1.4522\n",
      "Epoch 81/100\n",
      "303/303 [==============================] - 0s 811us/step - loss: 4.4686 - mae: 1.4357\n",
      "Epoch 82/100\n",
      "303/303 [==============================] - 0s 735us/step - loss: 4.4706 - mae: 1.3645\n",
      "Epoch 83/100\n",
      "303/303 [==============================] - 0s 1ms/step - loss: 4.3644 - mae: 1.3742\n",
      "Epoch 84/100\n",
      "303/303 [==============================] - 0s 882us/step - loss: 4.5091 - mae: 1.4104\n",
      "Epoch 85/100\n",
      "303/303 [==============================] - 0s 1ms/step - loss: 4.7351 - mae: 1.3966\n",
      "Epoch 86/100\n",
      "303/303 [==============================] - 0s 706us/step - loss: 4.0788 - mae: 1.3375\n",
      "Epoch 87/100\n",
      "303/303 [==============================] - 0s 1ms/step - loss: 4.2526 - mae: 1.3460\n",
      "Epoch 88/100\n",
      "303/303 [==============================] - 0s 838us/step - loss: 4.5640 - mae: 1.3445\n",
      "Epoch 89/100\n",
      "303/303 [==============================] - 0s 1ms/step - loss: 4.3080 - mae: 1.3851\n",
      "Epoch 90/100\n",
      "303/303 [==============================] - 0s 1ms/step - loss: 4.3975 - mae: 1.3843\n",
      "Epoch 91/100\n",
      "303/303 [==============================] - 1s 2ms/step - loss: 4.2246 - mae: 1.4138\n",
      "Epoch 92/100\n",
      "303/303 [==============================] - 0s 1ms/step - loss: 4.1817 - mae: 1.3720\n",
      "Epoch 93/100\n",
      "303/303 [==============================] - 0s 1000us/step - loss: 4.4690 - mae: 1.4303\n",
      "Epoch 94/100\n",
      "303/303 [==============================] - 0s 783us/step - loss: 4.1849 - mae: 1.3511\n",
      "Epoch 95/100\n",
      "303/303 [==============================] - 0s 794us/step - loss: 4.2697 - mae: 1.3357\n",
      "Epoch 96/100\n",
      "303/303 [==============================] - 0s 777us/step - loss: 3.9153 - mae: 1.3143\n",
      "Epoch 97/100\n",
      "303/303 [==============================] - 0s 1ms/step - loss: 4.0821 - mae: 1.3129\n",
      "Epoch 98/100\n",
      "303/303 [==============================] - 0s 717us/step - loss: 3.7677 - mae: 1.3424\n",
      "Epoch 99/100\n",
      "303/303 [==============================] - 0s 1ms/step - loss: 3.9908 - mae: 1.3764\n",
      "Epoch 100/100\n",
      "303/303 [==============================] - 0s 2ms/step - loss: 3.8837 - mae: 1.2684\n",
      "4/4 [==============================] - 0s 995us/step - loss: 18.1086 - mae: 2.6582\n",
      "processing fold # 2\n",
      "Epoch 1/100\n",
      "303/303 [==============================] - 1s 725us/step - loss: 237.5118 - mae: 11.4222\n",
      "Epoch 2/100\n",
      "303/303 [==============================] - 0s 685us/step - loss: 27.8495 - mae: 3.6471\n",
      "Epoch 3/100\n",
      "303/303 [==============================] - 0s 727us/step - loss: 20.6031 - mae: 3.1630\n",
      "Epoch 4/100\n",
      "303/303 [==============================] - 0s 762us/step - loss: 17.0294 - mae: 2.8480\n",
      "Epoch 5/100\n",
      "303/303 [==============================] - 1s 2ms/step - loss: 14.6229 - mae: 2.6459\n",
      "Epoch 6/100\n",
      "303/303 [==============================] - 0s 1ms/step - loss: 13.1413 - mae: 2.4951\n",
      "Epoch 7/100\n",
      "303/303 [==============================] - 0s 900us/step - loss: 12.8971 - mae: 2.4567\n",
      "Epoch 8/100\n",
      "303/303 [==============================] - 0s 800us/step - loss: 11.0750 - mae: 2.3167\n",
      "Epoch 9/100\n",
      "303/303 [==============================] - 0s 1ms/step - loss: 11.5605 - mae: 2.3867\n",
      "Epoch 10/100\n",
      "303/303 [==============================] - 0s 714us/step - loss: 10.6495 - mae: 2.1939\n",
      "Epoch 11/100\n",
      "303/303 [==============================] - 0s 1ms/step - loss: 10.0513 - mae: 2.2781\n",
      "Epoch 12/100\n",
      "303/303 [==============================] - 0s 864us/step - loss: 9.0198 - mae: 2.0767\n",
      "Epoch 13/100\n",
      "303/303 [==============================] - 0s 740us/step - loss: 9.2883 - mae: 2.1207\n",
      "Epoch 14/100\n",
      "303/303 [==============================] - 0s 731us/step - loss: 9.2419 - mae: 2.0874\n",
      "Epoch 15/100\n",
      "303/303 [==============================] - 0s 820us/step - loss: 9.1218 - mae: 2.0449\n",
      "Epoch 16/100\n",
      "303/303 [==============================] - 0s 893us/step - loss: 8.6694 - mae: 2.0751\n",
      "Epoch 17/100\n",
      "303/303 [==============================] - 0s 809us/step - loss: 8.3589 - mae: 2.0618\n",
      "Epoch 18/100\n",
      "303/303 [==============================] - 0s 817us/step - loss: 8.2429 - mae: 2.0026\n",
      "Epoch 19/100\n",
      "303/303 [==============================] - 1s 2ms/step - loss: 8.1563 - mae: 1.9829\n",
      "Epoch 20/100\n",
      "303/303 [==============================] - 0s 1ms/step - loss: 8.4693 - mae: 1.9842\n",
      "Epoch 21/100\n",
      "303/303 [==============================] - 0s 783us/step - loss: 8.0981 - mae: 1.9102\n",
      "Epoch 22/100\n",
      "303/303 [==============================] - 0s 786us/step - loss: 7.8321 - mae: 1.9100\n",
      "Epoch 23/100\n",
      "303/303 [==============================] - 0s 918us/step - loss: 7.6209 - mae: 1.9057\n",
      "Epoch 24/100\n",
      "303/303 [==============================] - 1s 2ms/step - loss: 7.3569 - mae: 1.8858\n",
      "Epoch 25/100\n",
      "303/303 [==============================] - 0s 807us/step - loss: 7.3403 - mae: 1.8831\n",
      "Epoch 26/100\n",
      "303/303 [==============================] - 0s 836us/step - loss: 7.1088 - mae: 1.8925\n",
      "Epoch 27/100\n",
      "303/303 [==============================] - 0s 1ms/step - loss: 7.0714 - mae: 1.8167\n",
      "Epoch 28/100\n",
      "303/303 [==============================] - 0s 850us/step - loss: 6.8625 - mae: 1.7968\n",
      "Epoch 29/100\n",
      "303/303 [==============================] - 0s 725us/step - loss: 6.7030 - mae: 1.7855\n",
      "Epoch 30/100\n",
      "303/303 [==============================] - 0s 843us/step - loss: 6.9374 - mae: 1.7461\n",
      "Epoch 31/100\n",
      "303/303 [==============================] - 0s 1ms/step - loss: 6.5143 - mae: 1.7821\n",
      "Epoch 32/100\n",
      "303/303 [==============================] - 0s 1ms/step - loss: 6.5331 - mae: 1.7829\n",
      "Epoch 33/100\n",
      "303/303 [==============================] - 0s 728us/step - loss: 6.3599 - mae: 1.7511\n",
      "Epoch 34/100\n",
      "303/303 [==============================] - 0s 705us/step - loss: 6.3593 - mae: 1.7327\n",
      "Epoch 35/100\n",
      "303/303 [==============================] - 0s 1ms/step - loss: 6.5089 - mae: 1.7394\n",
      "Epoch 36/100\n",
      "303/303 [==============================] - 0s 821us/step - loss: 6.3133 - mae: 1.6825\n",
      "Epoch 37/100\n",
      "303/303 [==============================] - 0s 906us/step - loss: 6.2231 - mae: 1.7236\n",
      "Epoch 38/100\n",
      "303/303 [==============================] - 0s 1ms/step - loss: 5.8871 - mae: 1.7300\n",
      "Epoch 39/100\n",
      "303/303 [==============================] - 0s 814us/step - loss: 5.8278 - mae: 1.6669\n",
      "Epoch 40/100\n",
      "303/303 [==============================] - 0s 2ms/step - loss: 5.6408 - mae: 1.6618\n",
      "Epoch 41/100\n",
      "303/303 [==============================] - 0s 1ms/step - loss: 5.8122 - mae: 1.6710\n",
      "Epoch 42/100\n",
      "303/303 [==============================] - 0s 934us/step - loss: 6.1248 - mae: 1.6548\n",
      "Epoch 43/100\n",
      "303/303 [==============================] - 0s 1ms/step - loss: 5.1507 - mae: 1.6305\n",
      "Epoch 44/100\n",
      "303/303 [==============================] - 0s 803us/step - loss: 5.7532 - mae: 1.5823\n",
      "Epoch 45/100\n",
      "303/303 [==============================] - 0s 1ms/step - loss: 5.4262 - mae: 1.5881\n",
      "Epoch 46/100\n",
      "303/303 [==============================] - 1s 2ms/step - loss: 5.3937 - mae: 1.5808\n",
      "Epoch 47/100\n",
      "303/303 [==============================] - 0s 1ms/step - loss: 5.3859 - mae: 1.6042\n",
      "Epoch 48/100\n",
      "303/303 [==============================] - 0s 1ms/step - loss: 5.2833 - mae: 1.5642\n",
      "Epoch 49/100\n",
      "303/303 [==============================] - 0s 1ms/step - loss: 4.9988 - mae: 1.5837\n",
      "Epoch 50/100\n",
      "303/303 [==============================] - 0s 737us/step - loss: 4.9544 - mae: 1.5287\n",
      "Epoch 51/100\n",
      "303/303 [==============================] - 0s 1ms/step - loss: 5.0035 - mae: 1.5606\n",
      "Epoch 52/100\n",
      "303/303 [==============================] - 0s 1ms/step - loss: 4.8193 - mae: 1.4836\n",
      "Epoch 53/100\n",
      "303/303 [==============================] - 0s 1ms/step - loss: 4.9577 - mae: 1.5443\n",
      "Epoch 54/100\n",
      "303/303 [==============================] - 0s 1ms/step - loss: 4.7428 - mae: 1.5362\n",
      "Epoch 55/100\n",
      "303/303 [==============================] - 1s 2ms/step - loss: 4.7234 - mae: 1.5566\n",
      "Epoch 56/100\n",
      "303/303 [==============================] - 0s 861us/step - loss: 4.9273 - mae: 1.5301\n",
      "Epoch 57/100\n",
      "303/303 [==============================] - 0s 789us/step - loss: 4.6202 - mae: 1.4520\n",
      "Epoch 58/100\n",
      "303/303 [==============================] - 0s 1ms/step - loss: 5.1308 - mae: 1.5282\n",
      "Epoch 59/100\n",
      "303/303 [==============================] - 0s 823us/step - loss: 4.3174 - mae: 1.4661\n",
      "Epoch 60/100\n",
      "303/303 [==============================] - 0s 829us/step - loss: 4.5333 - mae: 1.5001\n",
      "Epoch 61/100\n",
      "303/303 [==============================] - 0s 905us/step - loss: 4.2631 - mae: 1.4630\n",
      "Epoch 62/100\n",
      "303/303 [==============================] - 0s 1ms/step - loss: 4.3968 - mae: 1.4389\n",
      "Epoch 63/100\n",
      "303/303 [==============================] - 0s 754us/step - loss: 4.7204 - mae: 1.4471\n",
      "Epoch 64/100\n",
      "303/303 [==============================] - 0s 708us/step - loss: 4.2360 - mae: 1.4332\n",
      "Epoch 65/100\n",
      "303/303 [==============================] - 0s 1ms/step - loss: 4.3450 - mae: 1.4337\n",
      "Epoch 66/100\n",
      "303/303 [==============================] - 0s 800us/step - loss: 3.9251 - mae: 1.4288\n",
      "Epoch 67/100\n",
      "303/303 [==============================] - 0s 739us/step - loss: 4.0386 - mae: 1.4488\n",
      "Epoch 68/100\n",
      "303/303 [==============================] - 0s 783us/step - loss: 3.9927 - mae: 1.3909\n",
      "Epoch 69/100\n",
      "303/303 [==============================] - 0s 718us/step - loss: 4.1487 - mae: 1.4247\n",
      "Epoch 70/100\n",
      "303/303 [==============================] - 0s 684us/step - loss: 4.1618 - mae: 1.4038\n",
      "Epoch 71/100\n",
      "303/303 [==============================] - 0s 1ms/step - loss: 3.7701 - mae: 1.3721\n",
      "Epoch 72/100\n",
      "303/303 [==============================] - 0s 713us/step - loss: 4.1024 - mae: 1.3935\n",
      "Epoch 73/100\n",
      "303/303 [==============================] - 0s 737us/step - loss: 3.8148 - mae: 1.3701\n",
      "Epoch 74/100\n",
      "303/303 [==============================] - 0s 750us/step - loss: 3.6848 - mae: 1.3566\n",
      "Epoch 75/100\n",
      "303/303 [==============================] - 0s 692us/step - loss: 3.9863 - mae: 1.3673\n",
      "Epoch 76/100\n",
      "303/303 [==============================] - 0s 723us/step - loss: 3.8020 - mae: 1.3524\n",
      "Epoch 77/100\n",
      "303/303 [==============================] - 0s 1ms/step - loss: 3.7135 - mae: 1.3508\n",
      "Epoch 78/100\n",
      "303/303 [==============================] - 0s 697us/step - loss: 3.6494 - mae: 1.3419\n",
      "Epoch 79/100\n",
      "303/303 [==============================] - 0s 728us/step - loss: 3.4068 - mae: 1.3126\n",
      "Epoch 80/100\n",
      "303/303 [==============================] - 0s 799us/step - loss: 3.3563 - mae: 1.2918\n",
      "Epoch 81/100\n",
      "303/303 [==============================] - 0s 704us/step - loss: 3.5325 - mae: 1.3094\n",
      "Epoch 82/100\n",
      "303/303 [==============================] - 0s 759us/step - loss: 3.4239 - mae: 1.2972\n",
      "Epoch 83/100\n",
      "303/303 [==============================] - 0s 1ms/step - loss: 3.5195 - mae: 1.3373\n",
      "Epoch 84/100\n",
      "303/303 [==============================] - 0s 854us/step - loss: 3.5846 - mae: 1.3138\n",
      "Epoch 85/100\n",
      "303/303 [==============================] - 0s 708us/step - loss: 3.5941 - mae: 1.3032\n",
      "Epoch 86/100\n",
      "303/303 [==============================] - 0s 862us/step - loss: 3.4988 - mae: 1.3409\n",
      "Epoch 87/100\n",
      "303/303 [==============================] - 0s 807us/step - loss: 3.4664 - mae: 1.2904\n",
      "Epoch 88/100\n",
      "303/303 [==============================] - 0s 1ms/step - loss: 3.4242 - mae: 1.3002\n",
      "Epoch 89/100\n",
      "303/303 [==============================] - 0s 1ms/step - loss: 3.2652 - mae: 1.2317\n",
      "Epoch 90/100\n",
      "303/303 [==============================] - 0s 754us/step - loss: 3.4743 - mae: 1.3029\n",
      "Epoch 91/100\n",
      "303/303 [==============================] - 0s 1ms/step - loss: 3.3965 - mae: 1.2574\n",
      "Epoch 92/100\n",
      "303/303 [==============================] - 0s 746us/step - loss: 3.2102 - mae: 1.3021\n",
      "Epoch 93/100\n",
      "303/303 [==============================] - 0s 1ms/step - loss: 3.3459 - mae: 1.2899\n",
      "Epoch 94/100\n",
      "303/303 [==============================] - 0s 993us/step - loss: 3.2146 - mae: 1.2151\n",
      "Epoch 95/100\n",
      "303/303 [==============================] - 0s 1ms/step - loss: 2.9732 - mae: 1.1827\n",
      "Epoch 96/100\n",
      "303/303 [==============================] - 0s 1ms/step - loss: 2.8894 - mae: 1.2123\n",
      "Epoch 97/100\n",
      "303/303 [==============================] - 1s 2ms/step - loss: 2.7668 - mae: 1.2006\n",
      "Epoch 98/100\n",
      "303/303 [==============================] - 0s 817us/step - loss: 3.1454 - mae: 1.2373\n",
      "Epoch 99/100\n",
      "303/303 [==============================] - 0s 811us/step - loss: 3.0705 - mae: 1.2368\n",
      "Epoch 100/100\n",
      "303/303 [==============================] - 0s 780us/step - loss: 2.8815 - mae: 1.2369\n",
      "4/4 [==============================] - 0s 1ms/step - loss: 14.7789 - mae: 2.6886\n",
      "processing fold # 3\n",
      "Epoch 1/100\n",
      "303/303 [==============================] - 1s 817us/step - loss: 202.6720 - mae: 10.5302\n",
      "Epoch 2/100\n",
      "303/303 [==============================] - 0s 815us/step - loss: 28.7160 - mae: 3.6505\n",
      "Epoch 3/100\n",
      "303/303 [==============================] - 0s 2ms/step - loss: 18.9323 - mae: 2.9344\n",
      "Epoch 4/100\n",
      "303/303 [==============================] - 0s 983us/step - loss: 16.9376 - mae: 2.7313\n",
      "Epoch 5/100\n",
      "303/303 [==============================] - 0s 2ms/step - loss: 14.4229 - mae: 2.5260\n",
      "Epoch 6/100\n",
      "303/303 [==============================] - 0s 1ms/step - loss: 13.7185 - mae: 2.4163\n",
      "Epoch 7/100\n",
      "303/303 [==============================] - 0s 838us/step - loss: 11.6728 - mae: 2.3685\n",
      "Epoch 8/100\n",
      "303/303 [==============================] - 0s 1ms/step - loss: 11.4136 - mae: 2.2845\n",
      "Epoch 9/100\n",
      "303/303 [==============================] - 0s 794us/step - loss: 11.3988 - mae: 2.2575\n",
      "Epoch 10/100\n",
      "303/303 [==============================] - 0s 940us/step - loss: 10.9031 - mae: 2.1847\n",
      "Epoch 11/100\n",
      "303/303 [==============================] - 0s 813us/step - loss: 11.0607 - mae: 2.1725\n",
      "Epoch 12/100\n",
      "303/303 [==============================] - 0s 820us/step - loss: 9.8988 - mae: 2.1810\n",
      "Epoch 13/100\n",
      "303/303 [==============================] - 0s 781us/step - loss: 10.3156 - mae: 2.0894\n",
      "Epoch 14/100\n",
      "303/303 [==============================] - 0s 711us/step - loss: 10.3161 - mae: 2.0203\n",
      "Epoch 15/100\n",
      "303/303 [==============================] - 0s 811us/step - loss: 8.9832 - mae: 2.0092\n",
      "Epoch 16/100\n",
      "303/303 [==============================] - 0s 1ms/step - loss: 9.5348 - mae: 2.0007\n",
      "Epoch 17/100\n",
      "303/303 [==============================] - 0s 884us/step - loss: 9.0487 - mae: 1.9783\n",
      "Epoch 18/100\n",
      "303/303 [==============================] - 0s 1ms/step - loss: 9.2199 - mae: 1.9994\n",
      "Epoch 19/100\n",
      "303/303 [==============================] - 0s 1ms/step - loss: 8.6301 - mae: 1.9404\n",
      "Epoch 20/100\n",
      "303/303 [==============================] - 0s 936us/step - loss: 8.6859 - mae: 1.9046\n",
      "Epoch 21/100\n",
      "303/303 [==============================] - 0s 1ms/step - loss: 8.5164 - mae: 1.9284\n",
      "Epoch 22/100\n",
      "303/303 [==============================] - 0s 1ms/step - loss: 8.6178 - mae: 1.8789\n",
      "Epoch 23/100\n",
      "303/303 [==============================] - 0s 1ms/step - loss: 8.5254 - mae: 1.8895\n",
      "Epoch 24/100\n",
      "303/303 [==============================] - 0s 808us/step - loss: 8.2683 - mae: 1.9369\n",
      "Epoch 25/100\n",
      "303/303 [==============================] - 0s 710us/step - loss: 7.7941 - mae: 1.8893\n",
      "Epoch 26/100\n",
      "303/303 [==============================] - 0s 722us/step - loss: 7.8260 - mae: 1.8710\n",
      "Epoch 27/100\n",
      "303/303 [==============================] - 0s 710us/step - loss: 7.7798 - mae: 1.9319\n",
      "Epoch 28/100\n",
      "303/303 [==============================] - 0s 1ms/step - loss: 7.8349 - mae: 1.8083\n",
      "Epoch 29/100\n",
      "303/303 [==============================] - 0s 868us/step - loss: 7.5214 - mae: 1.8278\n",
      "Epoch 30/100\n",
      "303/303 [==============================] - 0s 703us/step - loss: 7.6149 - mae: 1.7769\n",
      "Epoch 31/100\n",
      "303/303 [==============================] - 0s 711us/step - loss: 7.5654 - mae: 1.8331\n",
      "Epoch 32/100\n",
      "303/303 [==============================] - 0s 790us/step - loss: 7.3909 - mae: 1.7552\n",
      "Epoch 33/100\n",
      "303/303 [==============================] - 0s 814us/step - loss: 7.3136 - mae: 1.7993\n",
      "Epoch 34/100\n",
      "303/303 [==============================] - 0s 1ms/step - loss: 7.6496 - mae: 1.7538\n",
      "Epoch 35/100\n",
      "303/303 [==============================] - 0s 1ms/step - loss: 6.9918 - mae: 1.7356\n",
      "Epoch 36/100\n",
      "303/303 [==============================] - 0s 787us/step - loss: 7.1052 - mae: 1.7332\n",
      "Epoch 37/100\n",
      "303/303 [==============================] - 0s 666us/step - loss: 7.0153 - mae: 1.8041\n",
      "Epoch 38/100\n",
      "303/303 [==============================] - 0s 704us/step - loss: 7.0393 - mae: 1.7059\n",
      "Epoch 39/100\n",
      "303/303 [==============================] - 0s 719us/step - loss: 6.5605 - mae: 1.7107\n",
      "Epoch 40/100\n",
      "303/303 [==============================] - 0s 914us/step - loss: 6.9988 - mae: 1.7350\n",
      "Epoch 41/100\n",
      "303/303 [==============================] - 0s 720us/step - loss: 6.5410 - mae: 1.6595\n",
      "Epoch 42/100\n",
      "303/303 [==============================] - 0s 707us/step - loss: 6.8681 - mae: 1.7478\n",
      "Epoch 43/100\n",
      "303/303 [==============================] - 0s 912us/step - loss: 6.0797 - mae: 1.7111\n",
      "Epoch 44/100\n",
      "303/303 [==============================] - 0s 796us/step - loss: 6.7265 - mae: 1.6638\n",
      "Epoch 45/100\n",
      "303/303 [==============================] - 0s 669us/step - loss: 6.3385 - mae: 1.6926\n",
      "Epoch 46/100\n",
      "303/303 [==============================] - 0s 685us/step - loss: 6.5044 - mae: 1.7152\n",
      "Epoch 47/100\n",
      "303/303 [==============================] - 0s 709us/step - loss: 5.9613 - mae: 1.5946\n",
      "Epoch 48/100\n",
      "303/303 [==============================] - 0s 1ms/step - loss: 6.2670 - mae: 1.6783\n",
      "Epoch 49/100\n",
      "303/303 [==============================] - 0s 1ms/step - loss: 6.4619 - mae: 1.6286\n",
      "Epoch 50/100\n",
      "303/303 [==============================] - 0s 1ms/step - loss: 6.1143 - mae: 1.5976\n",
      "Epoch 51/100\n",
      "303/303 [==============================] - 1s 2ms/step - loss: 6.0727 - mae: 1.6181\n",
      "Epoch 52/100\n",
      "303/303 [==============================] - 0s 1ms/step - loss: 6.2436 - mae: 1.6406\n",
      "Epoch 53/100\n",
      "303/303 [==============================] - 0s 815us/step - loss: 6.1452 - mae: 1.6317\n",
      "Epoch 54/100\n",
      "303/303 [==============================] - 0s 728us/step - loss: 5.9549 - mae: 1.5852\n",
      "Epoch 55/100\n",
      "303/303 [==============================] - 0s 821us/step - loss: 6.1485 - mae: 1.5846\n",
      "Epoch 56/100\n",
      "303/303 [==============================] - 0s 1ms/step - loss: 6.1136 - mae: 1.6451\n",
      "Epoch 57/100\n",
      "303/303 [==============================] - 0s 758us/step - loss: 5.3839 - mae: 1.5251\n",
      "Epoch 58/100\n",
      "303/303 [==============================] - 0s 959us/step - loss: 6.1511 - mae: 1.6081\n",
      "Epoch 59/100\n",
      "303/303 [==============================] - 0s 911us/step - loss: 5.7262 - mae: 1.5926\n",
      "Epoch 60/100\n",
      "303/303 [==============================] - 0s 851us/step - loss: 5.8384 - mae: 1.5399\n",
      "Epoch 61/100\n",
      "303/303 [==============================] - 0s 707us/step - loss: 5.5980 - mae: 1.5712\n",
      "Epoch 62/100\n",
      "303/303 [==============================] - 0s 782us/step - loss: 5.5862 - mae: 1.5580\n",
      "Epoch 63/100\n",
      "303/303 [==============================] - 0s 969us/step - loss: 5.5486 - mae: 1.5069\n",
      "Epoch 64/100\n",
      "303/303 [==============================] - 0s 1ms/step - loss: 5.9724 - mae: 1.5932\n",
      "Epoch 65/100\n",
      "303/303 [==============================] - 0s 901us/step - loss: 5.5111 - mae: 1.5060\n",
      "Epoch 66/100\n",
      "303/303 [==============================] - 0s 793us/step - loss: 5.4216 - mae: 1.4935\n",
      "Epoch 67/100\n",
      "303/303 [==============================] - 0s 958us/step - loss: 5.0590 - mae: 1.4932\n",
      "Epoch 68/100\n",
      "303/303 [==============================] - 0s 750us/step - loss: 5.2061 - mae: 1.4703\n",
      "Epoch 69/100\n",
      "303/303 [==============================] - 0s 935us/step - loss: 5.2234 - mae: 1.5087\n",
      "Epoch 70/100\n",
      "303/303 [==============================] - 0s 835us/step - loss: 5.5111 - mae: 1.4748\n",
      "Epoch 71/100\n",
      "303/303 [==============================] - 0s 1ms/step - loss: 5.4408 - mae: 1.4318\n",
      "Epoch 72/100\n",
      "303/303 [==============================] - 0s 735us/step - loss: 5.2145 - mae: 1.5395\n",
      "Epoch 73/100\n",
      "303/303 [==============================] - 0s 702us/step - loss: 4.7511 - mae: 1.4224\n",
      "Epoch 74/100\n",
      "303/303 [==============================] - 0s 676us/step - loss: 4.8780 - mae: 1.4633\n",
      "Epoch 75/100\n",
      "303/303 [==============================] - 0s 698us/step - loss: 4.8944 - mae: 1.3814\n",
      "Epoch 76/100\n",
      "303/303 [==============================] - 0s 824us/step - loss: 5.3792 - mae: 1.4803\n",
      "Epoch 77/100\n",
      "303/303 [==============================] - 0s 924us/step - loss: 4.9602 - mae: 1.4751\n",
      "Epoch 78/100\n",
      "303/303 [==============================] - 0s 951us/step - loss: 5.0817 - mae: 1.4302\n",
      "Epoch 79/100\n",
      "303/303 [==============================] - 0s 702us/step - loss: 5.0083 - mae: 1.4600\n",
      "Epoch 80/100\n",
      "303/303 [==============================] - 0s 747us/step - loss: 4.9322 - mae: 1.4455\n",
      "Epoch 81/100\n",
      "303/303 [==============================] - 0s 1ms/step - loss: 4.8213 - mae: 1.4068\n",
      "Epoch 82/100\n",
      "303/303 [==============================] - 0s 815us/step - loss: 4.7082 - mae: 1.4280\n",
      "Epoch 83/100\n",
      "303/303 [==============================] - 0s 911us/step - loss: 4.5848 - mae: 1.4107\n",
      "Epoch 84/100\n",
      "303/303 [==============================] - 0s 1ms/step - loss: 4.4937 - mae: 1.3248\n",
      "Epoch 85/100\n",
      "303/303 [==============================] - 0s 1ms/step - loss: 4.3053 - mae: 1.3766\n",
      "Epoch 86/100\n",
      "303/303 [==============================] - 0s 1ms/step - loss: 4.4326 - mae: 1.3634\n",
      "Epoch 87/100\n",
      "303/303 [==============================] - 0s 949us/step - loss: 4.4522 - mae: 1.3743\n",
      "Epoch 88/100\n",
      "303/303 [==============================] - 0s 695us/step - loss: 4.6882 - mae: 1.4136\n",
      "Epoch 89/100\n",
      "303/303 [==============================] - 0s 686us/step - loss: 4.6685 - mae: 1.3641\n",
      "Epoch 90/100\n",
      "303/303 [==============================] - 0s 713us/step - loss: 4.3386 - mae: 1.3191\n",
      "Epoch 91/100\n",
      "303/303 [==============================] - 0s 675us/step - loss: 4.3430 - mae: 1.3137\n",
      "Epoch 92/100\n",
      "303/303 [==============================] - 0s 675us/step - loss: 4.5563 - mae: 1.3268\n",
      "Epoch 93/100\n",
      "303/303 [==============================] - 0s 765us/step - loss: 4.2198 - mae: 1.3580\n",
      "Epoch 94/100\n",
      "303/303 [==============================] - 0s 766us/step - loss: 4.4265 - mae: 1.3717\n",
      "Epoch 95/100\n",
      "303/303 [==============================] - 0s 703us/step - loss: 4.5294 - mae: 1.3364\n",
      "Epoch 96/100\n",
      "303/303 [==============================] - 0s 705us/step - loss: 4.3876 - mae: 1.3458\n",
      "Epoch 97/100\n",
      "303/303 [==============================] - 0s 2ms/step - loss: 4.2357 - mae: 1.3471\n",
      "Epoch 98/100\n",
      "303/303 [==============================] - 0s 959us/step - loss: 4.4917 - mae: 1.3339\n",
      "Epoch 99/100\n",
      "303/303 [==============================] - 0s 679us/step - loss: 4.1790 - mae: 1.3425\n",
      "Epoch 100/100\n",
      "303/303 [==============================] - 0s 772us/step - loss: 4.2654 - mae: 1.3118\n",
      "4/4 [==============================] - 0s 1ms/step - loss: 13.6029 - mae: 2.5104\n"
     ]
    }
   ],
   "source": [
    "import numpy as np\n",
    "k = 4\n",
    "num_val_samples = len(train_data) // k\n",
    "num_epochs = 100\n",
    "all_scores = []\n",
    "for i in range(k):\n",
    "    print('processing fold #', i)\n",
    "    val_data = train_data[i * num_val_samples: (i + 1) * num_val_samples]\n",
    "    val_targets = train_targets[i * num_val_samples: (i + 1) * num_val_samples]\n",
    "    partial_train_data = np.concatenate(\n",
    "                [train_data[:i * num_val_samples],\n",
    "                train_data[(i + 1) * num_val_samples:]],axis=0)\n",
    "    partial_train_targets = np.concatenate(\n",
    "        [train_targets[:i * num_val_samples],\n",
    "        train_targets[(i + 1) * num_val_samples:]],axis=0)\n",
    "    model = build_model()\n",
    "    model.fit(partial_train_data, partial_train_targets,\n",
    "        epochs=num_epochs, batch_size=1, verbose=1)\n",
    "    val_mse, val_mae = model.evaluate(val_data, val_targets, verbose=1)\n",
    "    all_scores.append(val_mae)"
   ],
   "metadata": {
    "collapsed": false,
    "ExecuteTime": {
     "end_time": "2024-03-29T09:02:55.088876869Z",
     "start_time": "2024-03-29T09:00:51.540543005Z"
    }
   }
  },
  {
   "cell_type": "code",
   "execution_count": 10,
   "outputs": [
    {
     "data": {
      "text/plain": "[2.179288864135742, 2.6581873893737793, 2.6886065006256104, 2.5104310512542725]"
     },
     "execution_count": 10,
     "metadata": {},
     "output_type": "execute_result"
    }
   ],
   "source": [
    "all_scores"
   ],
   "metadata": {
    "collapsed": false,
    "ExecuteTime": {
     "end_time": "2024-03-29T09:03:31.027406373Z",
     "start_time": "2024-03-29T09:03:30.992335805Z"
    }
   }
  },
  {
   "cell_type": "code",
   "execution_count": 11,
   "outputs": [
    {
     "data": {
      "text/plain": "2.509128451347351"
     },
     "execution_count": 11,
     "metadata": {},
     "output_type": "execute_result"
    }
   ],
   "source": [
    "np.mean(all_scores)"
   ],
   "metadata": {
    "collapsed": false,
    "ExecuteTime": {
     "end_time": "2024-03-29T09:03:51.577592268Z",
     "start_time": "2024-03-29T09:03:51.572873440Z"
    }
   }
  },
  {
   "cell_type": "code",
   "execution_count": 14,
   "outputs": [
    {
     "name": "stdout",
     "output_type": "stream",
     "text": [
      "processing fold # 0\n",
      "processing fold # 1\n",
      "processing fold # 2\n",
      "processing fold # 3\n"
     ]
    }
   ],
   "source": [
    "num_epochs = 500\n",
    "all_mae_histories = []\n",
    "for i in range(k):\n",
    "    print('processing fold #', i)\n",
    "    val_data = train_data[i * num_val_samples: (i + 1) * num_val_samples]\n",
    "    val_targets = train_targets[i * num_val_samples: (i + 1) * num_val_samples]\n",
    "    partial_train_data = np.concatenate(\n",
    "        [train_data[:i * num_val_samples],\n",
    "        train_data[(i + 1) * num_val_samples:]],\n",
    "        axis=0)\n",
    "\n",
    "    partial_train_targets = np.concatenate(\n",
    "        [train_targets[:i * num_val_samples],\n",
    "        train_targets[(i + 1) * num_val_samples:]],\n",
    "        axis=0)\n",
    "\n",
    "    model = build_model()\n",
    "    history = model.fit(partial_train_data, partial_train_targets,\n",
    "                        validation_data=(val_data, val_targets),\n",
    "                        epochs=num_epochs, batch_size=1, verbose=0)\n",
    "    mae_history = history.history['val_mae']\n",
    "    all_mae_histories.append(mae_history)"
   ],
   "metadata": {
    "collapsed": false,
    "ExecuteTime": {
     "end_time": "2024-03-29T09:28:59.088315793Z",
     "start_time": "2024-03-29T09:20:54.286718046Z"
    }
   }
  },
  {
   "cell_type": "code",
   "execution_count": 15,
   "outputs": [],
   "source": [
    "average_mae_history = [np.mean([x[i] for x in all_mae_histories]) for i in range(num_epochs)]"
   ],
   "metadata": {
    "collapsed": false,
    "ExecuteTime": {
     "end_time": "2024-03-29T09:30:28.469184309Z",
     "start_time": "2024-03-29T09:30:28.422618267Z"
    }
   }
  },
  {
   "cell_type": "code",
   "execution_count": 16,
   "outputs": [
    {
     "data": {
      "text/plain": "<Figure size 640x480 with 1 Axes>",
      "image/png": "[encoded data removed]"
     },
     "metadata": {},
     "output_type": "display_data"
    }
   ],
   "source": [
    "import matplotlib.pyplot as plt\n",
    "plt.plot(range(1, len(average_mae_history) + 1), average_mae_history)\n",
    "plt.xlabel('Epochs')\n",
    "plt.ylabel('Validation MAE')\n",
    "plt.show()"
   ],
   "metadata": {
    "collapsed": false,
    "ExecuteTime": {
     "end_time": "2024-03-29T09:30:51.736336302Z",
     "start_time": "2024-03-29T09:30:51.435380650Z"
    }
   }
  },
  {
   "cell_type": "code",
   "execution_count": 22,
   "outputs": [
    {
     "data": {
      "text/plain": "500"
     },
     "execution_count": 22,
     "metadata": {},
     "output_type": "execute_result"
    }
   ],
   "source": [
    "len(average_mae_history)"
   ],
   "metadata": {
    "collapsed": false,
    "ExecuteTime": {
     "end_time": "2024-03-29T09:35:13.957836372Z",
     "start_time": "2024-03-29T09:35:13.955618742Z"
    }
   }
  },
  {
   "cell_type": "code",
   "execution_count": 28,
   "outputs": [],
   "source": [
    "a = np.array(all_mae_histories)"
   ],
   "metadata": {
    "collapsed": false,
    "ExecuteTime": {
     "end_time": "2024-03-29T09:39:24.191326076Z",
     "start_time": "2024-03-29T09:39:24.150681682Z"
    }
   }
  },
  {
   "cell_type": "code",
   "execution_count": 29,
   "outputs": [],
   "source": [
    "a = np.mean(a,axis= 0)"
   ],
   "metadata": {
    "collapsed": false,
    "ExecuteTime": {
     "end_time": "2024-03-29T09:39:27.871813753Z",
     "start_time": "2024-03-29T09:39:27.866698762Z"
    }
   }
  },
  {
   "cell_type": "code",
   "execution_count": 31,
   "outputs": [
    {
     "data": {
      "text/plain": "(500,)"
     },
     "execution_count": 31,
     "metadata": {},
     "output_type": "execute_result"
    }
   ],
   "source": [
    "a.shape"
   ],
   "metadata": {
    "collapsed": false,
    "ExecuteTime": {
     "end_time": "2024-03-29T09:39:32.839440176Z",
     "start_time": "2024-03-29T09:39:32.837294748Z"
    }
   }
  },
  {
   "cell_type": "code",
   "execution_count": 32,
   "outputs": [
    {
     "data": {
      "text/plain": "<Figure size 640x480 with 1 Axes>",
      "image/png": "[encoded data removed]"
     },
     "metadata": {},
     "output_type": "display_data"
    }
   ],
   "source": [
    "plt.clf()\n",
    "plt.plot(range(1, len(a) + 1), a)\n",
    "plt.xlabel('Epochs')\n",
    "plt.ylabel('Validation MAE')\n",
    "plt.show()"
   ],
   "metadata": {
    "collapsed": false,
    "ExecuteTime": {
     "end_time": "2024-03-29T09:39:59.241155134Z",
     "start_time": "2024-03-29T09:39:59.190240370Z"
    }
   }
  },
  {
   "cell_type": "code",
   "execution_count": 46,
   "outputs": [
    {
     "data": {
      "text/plain": "<Figure size 640x480 with 1 Axes>",
      "image/png": "[encoded data removed]"
     },
     "metadata": {},
     "output_type": "display_data"
    }
   ],
   "source": [
    "def smooth_curve(points, factor=0.9):\n",
    "    smoothed_points = []\n",
    "    for point in points:\n",
    "        if smoothed_points:\n",
    "            previous = smoothed_points[-1]\n",
    "            smoothed_points.append(previous * factor + point * (1 - factor))\n",
    "        else:\n",
    "            smoothed_points.append(point)\n",
    "    return smoothed_points\n",
    "\n",
    "smooth_mae_history = smooth_curve(average_mae_history[10:])\n",
    "plt.plot(range(1, len(smooth_mae_history) + 1), smooth_mae_history)\n",
    "plt.xlabel('Epochs')\n",
    "plt.ylabel('Validation MAE')\n",
    "plt.show()"
   ],
   "metadata": {
    "collapsed": false,
    "ExecuteTime": {
     "end_time": "2024-03-29T09:51:42.007543442Z",
     "start_time": "2024-03-29T09:51:41.951505594Z"
    }
   }
  },
  {
   "cell_type": "code",
   "execution_count": 47,
   "outputs": [],
   "source": [
    "m = min(smooth_mae_history)"
   ],
   "metadata": {
    "collapsed": false,
    "ExecuteTime": {
     "end_time": "2024-03-29T09:51:49.429529189Z",
     "start_time": "2024-03-29T09:51:49.426645770Z"
    }
   }
  },
  {
   "cell_type": "code",
   "execution_count": 48,
   "outputs": [
    {
     "name": "stdout",
     "output_type": "stream",
     "text": [
      "52\n"
     ]
    }
   ],
   "source": [
    "for i, v in enumerate(smooth_mae_history):\n",
    "    if v == m:\n",
    "        print(i)"
   ],
   "metadata": {
    "collapsed": false,
    "ExecuteTime": {
     "end_time": "2024-03-29T09:51:50.656787075Z",
     "start_time": "2024-03-29T09:51:50.655822459Z"
    }
   }
  },
  {
   "cell_type": "code",
   "execution_count": 50,
   "outputs": [
    {
     "name": "stdout",
     "output_type": "stream",
     "text": [
      "4/4 [==============================] - 0s 1ms/step - loss: 16.5890 - mae: 2.4297\n"
     ]
    }
   ],
   "source": [
    "model = build_model()\n",
    "model.fit(train_data, train_targets,\n",
    "    epochs=52, batch_size=1, verbose=0)\n",
    "test_mse_score, test_mae_score = model.evaluate(test_data, test_targets)"
   ],
   "metadata": {
    "collapsed": false,
    "ExecuteTime": {
     "end_time": "2024-03-29T09:53:31.934089968Z",
     "start_time": "2024-03-29T09:53:18.293847524Z"
    }
   }
  },
  {
   "cell_type": "code",
   "execution_count": 51,
   "outputs": [
    {
     "data": {
      "text/plain": "2.4297401905059814"
     },
     "execution_count": 51,
     "metadata": {},
     "output_type": "execute_result"
    }
   ],
   "source": [
    "test_mae_score"
   ],
   "metadata": {
    "collapsed": false,
    "ExecuteTime": {
     "end_time": "2024-03-29T09:53:34.542460302Z",
     "start_time": "2024-03-29T09:53:34.538004707Z"
    }
   }
  },
  {
   "cell_type": "code",
   "execution_count": null,
   "outputs": [],
   "source": [],
   "metadata": {
    "collapsed": false
   }
  }
 ],
 "metadata": {
  "kernelspec": {
   "display_name": "Python 3",
   "language": "python",
   "name": "python3"
  },
  "language_info": {
   "codemirror_mode": {
    "name": "ipython",
    "version": 2
   },
   "file_extension": ".py",
   "mimetype": "text/x-python",
   "name": "python",
   "nbconvert_exporter": "python",
   "pygments_lexer": "ipython2",
   "version": "2.7.6"
  }
 },
 "nbformat": 4,
 "nbformat_minor": 0
}
