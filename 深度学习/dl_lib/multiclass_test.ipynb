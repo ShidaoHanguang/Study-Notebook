{
 "cells": [
  {
   "cell_type": "code",
   "execution_count": 1,
   "metadata": {
    "collapsed": true,
    "ExecuteTime": {
     "end_time": "2024-03-29T08:06:27.296037250Z",
     "start_time": "2024-03-29T08:06:13.012626056Z"
    }
   },
   "outputs": [
    {
     "name": "stderr",
     "output_type": "stream",
     "text": [
      "2024-03-29 16:06:13.111313: I tensorflow/core/util/port.cc:110] oneDNN custom operations are on. You may see slightly different numerical results due to floating-point round-off errors from different computation orders. To turn them off, set the environment variable `TF_ENABLE_ONEDNN_OPTS=0`.\n",
      "2024-03-29 16:06:13.137419: I tensorflow/core/platform/cpu_feature_guard.cc:182] This TensorFlow binary is optimized to use available CPU instructions in performance-critical operations.\n",
      "To enable the following instructions: SSE4.1 SSE4.2 AVX AVX2 AVX_VNNI FMA, in other operations, rebuild TensorFlow with the appropriate compiler flags.\n"
     ]
    },
    {
     "name": "stdout",
     "output_type": "stream",
     "text": [
      "Downloading data from https://storage.googleapis.com/tensorflow/tf-keras-datasets/reuters.npz\n",
      "2110848/2110848 [==============================] - 11s 5us/step\n"
     ]
    }
   ],
   "source": [
    "from keras.datasets import reuters\n",
    "(train_data, train_labels), (test_data, test_labels) = reuters.load_data(num_words=10000)"
   ]
  },
  {
   "cell_type": "code",
   "execution_count": 2,
   "outputs": [
    {
     "data": {
      "text/plain": "8982"
     },
     "execution_count": 2,
     "metadata": {},
     "output_type": "execute_result"
    }
   ],
   "source": [
    "len(train_data)"
   ],
   "metadata": {
    "collapsed": false,
    "ExecuteTime": {
     "end_time": "2024-03-29T08:06:39.415251760Z",
     "start_time": "2024-03-29T08:06:39.412995594Z"
    }
   }
  },
  {
   "cell_type": "code",
   "execution_count": 3,
   "outputs": [
    {
     "data": {
      "text/plain": "2246"
     },
     "execution_count": 3,
     "metadata": {},
     "output_type": "execute_result"
    }
   ],
   "source": [
    "len(test_data)"
   ],
   "metadata": {
    "collapsed": false,
    "ExecuteTime": {
     "end_time": "2024-03-29T08:06:50.048393896Z",
     "start_time": "2024-03-29T08:06:50.023802874Z"
    }
   }
  },
  {
   "cell_type": "code",
   "execution_count": 4,
   "outputs": [],
   "source": [
    "import numpy as np\n",
    "def vectorize_sequences(sequences, dimension=10000):\n",
    "    results = np.zeros((len(sequences), dimension))\n",
    "    for i, sequence in enumerate(sequences):\n",
    "        results[i, sequence] = 1.\n",
    "    return results\n",
    "x_train = vectorize_sequences(train_data)\n",
    "x_test = vectorize_sequences(test_data)"
   ],
   "metadata": {
    "collapsed": false,
    "ExecuteTime": {
     "end_time": "2024-03-29T08:08:02.315844066Z",
     "start_time": "2024-03-29T08:08:02.162539747Z"
    }
   }
  },
  {
   "cell_type": "code",
   "execution_count": 5,
   "outputs": [],
   "source": [
    "def to_one_hot(labels, dimension=46):\n",
    "    results = np.zeros((len(labels), dimension))\n",
    "    for i, label in enumerate(labels):\n",
    "        results[i, label] = 1.\n",
    "    return results\n",
    "one_hot_train_labels = to_one_hot(train_labels)\n",
    "one_hot_test_labels = to_one_hot(test_labels)"
   ],
   "metadata": {
    "collapsed": false,
    "ExecuteTime": {
     "end_time": "2024-03-29T08:08:47.536718570Z",
     "start_time": "2024-03-29T08:08:47.500069535Z"
    }
   }
  },
  {
   "cell_type": "code",
   "execution_count": 8,
   "outputs": [
    {
     "data": {
      "text/plain": "(8982, 46)"
     },
     "execution_count": 8,
     "metadata": {},
     "output_type": "execute_result"
    }
   ],
   "source": [
    "one_hot_train_labels.shape"
   ],
   "metadata": {
    "collapsed": false,
    "ExecuteTime": {
     "end_time": "2024-03-29T08:09:24.825796115Z",
     "start_time": "2024-03-29T08:09:24.823820995Z"
    }
   }
  },
  {
   "cell_type": "code",
   "execution_count": 10,
   "outputs": [],
   "source": [
    "from tensorflow.keras.utils import to_categorical"
   ],
   "metadata": {
    "collapsed": false,
    "ExecuteTime": {
     "end_time": "2024-03-29T08:11:38.146602443Z",
     "start_time": "2024-03-29T08:11:38.089751376Z"
    }
   }
  },
  {
   "cell_type": "code",
   "execution_count": 11,
   "outputs": [],
   "source": [
    "one_hot_train_labels = to_categorical(train_labels)\n",
    "one_hot_test_labels = to_categorical(test_labels)"
   ],
   "metadata": {
    "collapsed": false,
    "ExecuteTime": {
     "end_time": "2024-03-29T08:11:53.648686108Z",
     "start_time": "2024-03-29T08:11:53.611630247Z"
    }
   }
  },
  {
   "cell_type": "code",
   "execution_count": 12,
   "outputs": [
    {
     "data": {
      "text/plain": "(8982, 46)"
     },
     "execution_count": 12,
     "metadata": {},
     "output_type": "execute_result"
    }
   ],
   "source": [
    "one_hot_train_labels.shape"
   ],
   "metadata": {
    "collapsed": false,
    "ExecuteTime": {
     "end_time": "2024-03-29T08:12:04.200696491Z",
     "start_time": "2024-03-29T08:12:04.197839251Z"
    }
   }
  },
  {
   "cell_type": "code",
   "execution_count": 13,
   "outputs": [
    {
     "name": "stderr",
     "output_type": "stream",
     "text": [
      "2024-03-29 16:12:56.398810: I tensorflow/compiler/xla/stream_executor/cuda/cuda_gpu_executor.cc:995] successful NUMA node read from SysFS had negative value (-1), but there must be at least one NUMA node, so returning NUMA node zero. See more at https://github.com/torvalds/linux/blob/v6.0/Documentation/ABI/testing/sysfs-bus-pci#L344-L355\n",
      "2024-03-29 16:12:56.414778: I tensorflow/compiler/xla/stream_executor/cuda/cuda_gpu_executor.cc:995] successful NUMA node read from SysFS had negative value (-1), but there must be at least one NUMA node, so returning NUMA node zero. See more at https://github.com/torvalds/linux/blob/v6.0/Documentation/ABI/testing/sysfs-bus-pci#L344-L355\n",
      "2024-03-29 16:12:56.414903: I tensorflow/compiler/xla/stream_executor/cuda/cuda_gpu_executor.cc:995] successful NUMA node read from SysFS had negative value (-1), but there must be at least one NUMA node, so returning NUMA node zero. See more at https://github.com/torvalds/linux/blob/v6.0/Documentation/ABI/testing/sysfs-bus-pci#L344-L355\n",
      "2024-03-29 16:12:56.415763: I tensorflow/compiler/xla/stream_executor/cuda/cuda_gpu_executor.cc:995] successful NUMA node read from SysFS had negative value (-1), but there must be at least one NUMA node, so returning NUMA node zero. See more at https://github.com/torvalds/linux/blob/v6.0/Documentation/ABI/testing/sysfs-bus-pci#L344-L355\n",
      "2024-03-29 16:12:56.415855: I tensorflow/compiler/xla/stream_executor/cuda/cuda_gpu_executor.cc:995] successful NUMA node read from SysFS had negative value (-1), but there must be at least one NUMA node, so returning NUMA node zero. See more at https://github.com/torvalds/linux/blob/v6.0/Documentation/ABI/testing/sysfs-bus-pci#L344-L355\n",
      "2024-03-29 16:12:56.415912: I tensorflow/compiler/xla/stream_executor/cuda/cuda_gpu_executor.cc:995] successful NUMA node read from SysFS had negative value (-1), but there must be at least one NUMA node, so returning NUMA node zero. See more at https://github.com/torvalds/linux/blob/v6.0/Documentation/ABI/testing/sysfs-bus-pci#L344-L355\n",
      "2024-03-29 16:12:56.455372: I tensorflow/compiler/xla/stream_executor/cuda/cuda_gpu_executor.cc:995] successful NUMA node read from SysFS had negative value (-1), but there must be at least one NUMA node, so returning NUMA node zero. See more at https://github.com/torvalds/linux/blob/v6.0/Documentation/ABI/testing/sysfs-bus-pci#L344-L355\n",
      "2024-03-29 16:12:56.455692: I tensorflow/compiler/xla/stream_executor/cuda/cuda_gpu_executor.cc:995] successful NUMA node read from SysFS had negative value (-1), but there must be at least one NUMA node, so returning NUMA node zero. See more at https://github.com/torvalds/linux/blob/v6.0/Documentation/ABI/testing/sysfs-bus-pci#L344-L355\n",
      "2024-03-29 16:12:56.455826: I tensorflow/compiler/xla/stream_executor/cuda/cuda_gpu_executor.cc:995] successful NUMA node read from SysFS had negative value (-1), but there must be at least one NUMA node, so returning NUMA node zero. See more at https://github.com/torvalds/linux/blob/v6.0/Documentation/ABI/testing/sysfs-bus-pci#L344-L355\n",
      "2024-03-29 16:12:56.455915: I tensorflow/core/common_runtime/gpu/gpu_device.cc:1639] Created device /job:localhost/replica:0/task:0/device:GPU:0 with 1083 MB memory:  -> device: 0, name: NVIDIA GeForce RTX 4060 Ti, pci bus id: 0000:01:00.0, compute capability: 8.9\n"
     ]
    }
   ],
   "source": [
    "from keras import models\n",
    "from keras import layers\n",
    "model = models.Sequential()\n",
    "model.add(layers.Dense(64, activation='relu', input_shape=(10000,)))\n",
    "model.add(layers.Dense(64, activation='relu'))\n",
    "model.add(layers.Dense(46, activation='softmax'))"
   ],
   "metadata": {
    "collapsed": false,
    "ExecuteTime": {
     "end_time": "2024-03-29T08:12:56.510991764Z",
     "start_time": "2024-03-29T08:12:56.363400008Z"
    }
   }
  },
  {
   "cell_type": "code",
   "execution_count": 14,
   "outputs": [],
   "source": [
    "model.compile(optimizer='rmsprop',\n",
    "loss='categorical_crossentropy',\n",
    "metrics=['accuracy'])"
   ],
   "metadata": {
    "collapsed": false,
    "ExecuteTime": {
     "end_time": "2024-03-29T08:13:05.537561846Z",
     "start_time": "2024-03-29T08:13:05.528810221Z"
    }
   }
  },
  {
   "cell_type": "code",
   "execution_count": 15,
   "outputs": [],
   "source": [
    "x_val = x_train[:1000]\n",
    "partial_x_train = x_train[1000:]\n",
    "y_val = one_hot_train_labels[:1000]\n",
    "partial_y_train = one_hot_train_labels[1000:]"
   ],
   "metadata": {
    "collapsed": false,
    "ExecuteTime": {
     "end_time": "2024-03-29T08:13:12.595175584Z",
     "start_time": "2024-03-29T08:13:12.592167413Z"
    }
   }
  },
  {
   "cell_type": "code",
   "execution_count": 16,
   "outputs": [
    {
     "name": "stdout",
     "output_type": "stream",
     "text": [
      "Epoch 1/20\n"
     ]
    },
    {
     "name": "stderr",
     "output_type": "stream",
     "text": [
      "2024-03-29 16:13:25.597538: I tensorflow/compiler/xla/stream_executor/cuda/cuda_blas.cc:606] TensorFloat-32 will be used for the matrix multiplication. This will only be logged once.\n",
      "2024-03-29 16:13:25.686045: I tensorflow/compiler/xla/service/service.cc:168] XLA service 0x7017100395a0 initialized for platform CUDA (this does not guarantee that XLA will be used). Devices:\n",
      "2024-03-29 16:13:25.686114: I tensorflow/compiler/xla/service/service.cc:176]   StreamExecutor device (0): NVIDIA GeForce RTX 4060 Ti, Compute Capability 8.9\n",
      "2024-03-29 16:13:25.739601: I tensorflow/compiler/mlir/tensorflow/utils/dump_mlir_util.cc:255] disabling MLIR crash reproducer, set env var `MLIR_CRASH_REPRODUCER_DIRECTORY` to enable.\n",
      "2024-03-29 16:13:25.832197: I tensorflow/compiler/xla/stream_executor/cuda/cuda_dnn.cc:432] Loaded cuDNN version 8907\n",
      "2024-03-29 16:13:25.985455: I tensorflow/tsl/platform/default/subprocess.cc:304] Start cannot spawn child process: No such file or directory\n",
      "2024-03-29 16:13:26.098649: I ./tensorflow/compiler/jit/device_compiler.h:186] Compiled cluster using XLA!  This line is logged at most once for the lifetime of the process.\n"
     ]
    },
    {
     "name": "stdout",
     "output_type": "stream",
     "text": [
      "16/16 [==============================] - 1s 15ms/step - loss: 2.7867 - accuracy: 0.4783 - val_loss: 1.8625 - val_accuracy: 0.6070\n",
      "Epoch 2/20\n",
      "16/16 [==============================] - 0s 7ms/step - loss: 1.5748 - accuracy: 0.6812 - val_loss: 1.4077 - val_accuracy: 0.6870\n",
      "Epoch 3/20\n",
      "16/16 [==============================] - 0s 6ms/step - loss: 1.2066 - accuracy: 0.7471 - val_loss: 1.2039 - val_accuracy: 0.7470\n",
      "Epoch 4/20\n",
      "16/16 [==============================] - 0s 7ms/step - loss: 0.9883 - accuracy: 0.7930 - val_loss: 1.0950 - val_accuracy: 0.7710\n",
      "Epoch 5/20\n",
      "16/16 [==============================] - 0s 6ms/step - loss: 0.8192 - accuracy: 0.8299 - val_loss: 1.0294 - val_accuracy: 0.7880\n",
      "Epoch 6/20\n",
      "16/16 [==============================] - 0s 7ms/step - loss: 0.6888 - accuracy: 0.8533 - val_loss: 0.9728 - val_accuracy: 0.7960\n",
      "Epoch 7/20\n",
      "16/16 [==============================] - 0s 6ms/step - loss: 0.5779 - accuracy: 0.8779 - val_loss: 0.9414 - val_accuracy: 0.7970\n",
      "Epoch 8/20\n",
      "16/16 [==============================] - 0s 6ms/step - loss: 0.4910 - accuracy: 0.8966 - val_loss: 0.8947 - val_accuracy: 0.8110\n",
      "Epoch 9/20\n",
      "16/16 [==============================] - 0s 6ms/step - loss: 0.4171 - accuracy: 0.9110 - val_loss: 0.8857 - val_accuracy: 0.8200\n",
      "Epoch 10/20\n",
      "16/16 [==============================] - 0s 6ms/step - loss: 0.3568 - accuracy: 0.9199 - val_loss: 0.8802 - val_accuracy: 0.8170\n",
      "Epoch 11/20\n",
      "16/16 [==============================] - 0s 6ms/step - loss: 0.3093 - accuracy: 0.9335 - val_loss: 0.8895 - val_accuracy: 0.8140\n",
      "Epoch 12/20\n",
      "16/16 [==============================] - 0s 6ms/step - loss: 0.2766 - accuracy: 0.9367 - val_loss: 0.8842 - val_accuracy: 0.8210\n",
      "Epoch 13/20\n",
      "16/16 [==============================] - 0s 7ms/step - loss: 0.2421 - accuracy: 0.9427 - val_loss: 0.9051 - val_accuracy: 0.8140\n",
      "Epoch 14/20\n",
      "16/16 [==============================] - 0s 6ms/step - loss: 0.2149 - accuracy: 0.9466 - val_loss: 0.9197 - val_accuracy: 0.8150\n",
      "Epoch 15/20\n",
      "16/16 [==============================] - 0s 6ms/step - loss: 0.1989 - accuracy: 0.9505 - val_loss: 0.9292 - val_accuracy: 0.8110\n",
      "Epoch 16/20\n",
      "16/16 [==============================] - 0s 8ms/step - loss: 0.1801 - accuracy: 0.9533 - val_loss: 0.9523 - val_accuracy: 0.8120\n",
      "Epoch 17/20\n",
      "16/16 [==============================] - 0s 6ms/step - loss: 0.1658 - accuracy: 0.9540 - val_loss: 0.9239 - val_accuracy: 0.8220\n",
      "Epoch 18/20\n",
      "16/16 [==============================] - 0s 6ms/step - loss: 0.1530 - accuracy: 0.9557 - val_loss: 0.9536 - val_accuracy: 0.8140\n",
      "Epoch 19/20\n",
      "16/16 [==============================] - 0s 6ms/step - loss: 0.1541 - accuracy: 0.9546 - val_loss: 0.9868 - val_accuracy: 0.8000\n",
      "Epoch 20/20\n",
      "16/16 [==============================] - 0s 5ms/step - loss: 0.1393 - accuracy: 0.9558 - val_loss: 0.9907 - val_accuracy: 0.8030\n"
     ]
    }
   ],
   "source": [
    "history = model.fit(partial_x_train,\n",
    "partial_y_train,\n",
    "epochs=20,\n",
    "batch_size=512,\n",
    "validation_data=(x_val, y_val))"
   ],
   "metadata": {
    "collapsed": false,
    "ExecuteTime": {
     "end_time": "2024-03-29T08:13:28.505785035Z",
     "start_time": "2024-03-29T08:13:24.534739572Z"
    }
   }
  },
  {
   "cell_type": "code",
   "execution_count": 17,
   "outputs": [
    {
     "data": {
      "text/plain": "<Figure size 640x480 with 1 Axes>",
      "image/png": "[encoded data removed]"
     },
     "metadata": {},
     "output_type": "display_data"
    }
   ],
   "source": [
    "import matplotlib.pyplot as plt\n",
    "\n",
    "loss = history.history['loss']\n",
    "val_loss = history.history['val_loss']\n",
    "epochs = range(1, len(loss) + 1)\n",
    "plt.plot(epochs, loss, 'bo', label='Training loss')\n",
    "plt.plot(epochs, val_loss, 'b', label='Validation loss')\n",
    "plt.title('Training and validation loss')\n",
    "plt.xlabel('Epochs')\n",
    "plt.ylabel('Loss')\n",
    "plt.legend()\n",
    "plt.show()"
   ],
   "metadata": {
    "collapsed": false,
    "ExecuteTime": {
     "end_time": "2024-03-29T08:13:41.323113900Z",
     "start_time": "2024-03-29T08:13:40.954803765Z"
    }
   }
  },
  {
   "cell_type": "code",
   "execution_count": 21,
   "outputs": [
    {
     "data": {
      "text/plain": "<Figure size 640x480 with 1 Axes>",
      "image/png": "[encoded data removed]"
     },
     "metadata": {},
     "output_type": "display_data"
    }
   ],
   "source": [
    "plt.clf()\n",
    "acc = history.history['accuracy']\n",
    "val_acc = history.history['val_accuracy']\n",
    "plt.plot(epochs, acc, 'bo', label='Training acc')\n",
    "plt.plot(epochs, val_acc, 'b', label='Validation acc')\n",
    "plt.title('Training and validation accuracy')\n",
    "plt.xlabel('Epochs')\n",
    "plt.ylabel('Accuracy')\n",
    "plt.legend()\n",
    "plt.show()\n"
   ],
   "metadata": {
    "collapsed": false,
    "ExecuteTime": {
     "end_time": "2024-03-29T08:16:09.134598514Z",
     "start_time": "2024-03-29T08:16:09.063951696Z"
    }
   }
  },
  {
   "cell_type": "code",
   "execution_count": 20,
   "outputs": [
    {
     "data": {
      "text/plain": "dict_keys(['loss', 'accuracy', 'val_loss', 'val_accuracy'])"
     },
     "execution_count": 20,
     "metadata": {},
     "output_type": "execute_result"
    }
   ],
   "source": [
    "history.history.keys()"
   ],
   "metadata": {
    "collapsed": false,
    "ExecuteTime": {
     "end_time": "2024-03-29T08:15:37.436146061Z",
     "start_time": "2024-03-29T08:15:37.432991249Z"
    }
   }
  },
  {
   "cell_type": "code",
   "execution_count": 25,
   "outputs": [
    {
     "name": "stdout",
     "output_type": "stream",
     "text": [
      "0 0.6069999933242798\n",
      "1 0.6869999766349792\n",
      "2 0.746999979019165\n",
      "3 0.7710000276565552\n",
      "4 0.7879999876022339\n",
      "5 0.7960000038146973\n",
      "6 0.796999990940094\n",
      "7 0.8109999895095825\n",
      "8 0.8199999928474426\n",
      "9 0.8169999718666077\n",
      "10 0.8140000104904175\n",
      "11 0.8209999799728394\n",
      "12 0.8140000104904175\n",
      "13 0.8149999976158142\n",
      "14 0.8109999895095825\n",
      "15 0.8119999766349792\n",
      "16 0.8220000267028809\n",
      "16\n",
      "17 0.8140000104904175\n",
      "18 0.800000011920929\n",
      "19 0.8029999732971191\n"
     ]
    }
   ],
   "source": [
    "m = max(history.history['val_accuracy'])\n",
    "for i, v in enumerate(history.history['val_accuracy']):\n",
    "    print(i, v)\n",
    "    if v == m:\n",
    "        print(i)"
   ],
   "metadata": {
    "collapsed": false,
    "ExecuteTime": {
     "end_time": "2024-03-29T08:19:41.649826268Z",
     "start_time": "2024-03-29T08:19:41.642256287Z"
    }
   }
  },
  {
   "cell_type": "code",
   "execution_count": 30,
   "outputs": [
    {
     "name": "stdout",
     "output_type": "stream",
     "text": [
      "Epoch 1/16\n",
      "16/16 [==============================] - 1s 12ms/step - loss: 2.8033 - accuracy: 0.5078 - val_loss: 1.9277 - val_accuracy: 0.6160\n",
      "Epoch 2/16\n",
      "16/16 [==============================] - 0s 7ms/step - loss: 1.6002 - accuracy: 0.6763 - val_loss: 1.4162 - val_accuracy: 0.6980\n",
      "Epoch 3/16\n",
      "16/16 [==============================] - 0s 7ms/step - loss: 1.2065 - accuracy: 0.7379 - val_loss: 1.1881 - val_accuracy: 0.7370\n",
      "Epoch 4/16\n",
      "16/16 [==============================] - 0s 6ms/step - loss: 0.9817 - accuracy: 0.7881 - val_loss: 1.0688 - val_accuracy: 0.7600\n",
      "Epoch 5/16\n",
      "16/16 [==============================] - 0s 6ms/step - loss: 0.8141 - accuracy: 0.8245 - val_loss: 0.9831 - val_accuracy: 0.7980\n",
      "Epoch 6/16\n",
      "16/16 [==============================] - 0s 6ms/step - loss: 0.6778 - accuracy: 0.8578 - val_loss: 0.9387 - val_accuracy: 0.7950\n",
      "Epoch 7/16\n",
      "16/16 [==============================] - 0s 7ms/step - loss: 0.5654 - accuracy: 0.8807 - val_loss: 0.8788 - val_accuracy: 0.8100\n",
      "Epoch 8/16\n",
      "16/16 [==============================] - 0s 6ms/step - loss: 0.4808 - accuracy: 0.9002 - val_loss: 0.8480 - val_accuracy: 0.8180\n",
      "Epoch 9/16\n",
      "16/16 [==============================] - 0s 6ms/step - loss: 0.4031 - accuracy: 0.9144 - val_loss: 0.8385 - val_accuracy: 0.8170\n",
      "Epoch 10/16\n",
      "16/16 [==============================] - 0s 6ms/step - loss: 0.3446 - accuracy: 0.9238 - val_loss: 0.8424 - val_accuracy: 0.8050\n",
      "Epoch 11/16\n",
      "16/16 [==============================] - 0s 6ms/step - loss: 0.2985 - accuracy: 0.9345 - val_loss: 0.8399 - val_accuracy: 0.8080\n",
      "Epoch 12/16\n",
      "16/16 [==============================] - 0s 6ms/step - loss: 0.2612 - accuracy: 0.9405 - val_loss: 0.8379 - val_accuracy: 0.8210\n",
      "Epoch 13/16\n",
      "16/16 [==============================] - 0s 7ms/step - loss: 0.2344 - accuracy: 0.9439 - val_loss: 0.8249 - val_accuracy: 0.8210\n",
      "Epoch 14/16\n",
      "16/16 [==============================] - 0s 6ms/step - loss: 0.2098 - accuracy: 0.9460 - val_loss: 0.8318 - val_accuracy: 0.8110\n",
      "Epoch 15/16\n",
      "16/16 [==============================] - 0s 6ms/step - loss: 0.1878 - accuracy: 0.9494 - val_loss: 0.8478 - val_accuracy: 0.8100\n",
      "Epoch 16/16\n",
      "16/16 [==============================] - 0s 7ms/step - loss: 0.1730 - accuracy: 0.9524 - val_loss: 0.8712 - val_accuracy: 0.8150\n",
      "71/71 [==============================] - 0s 968us/step - loss: 0.9947 - accuracy: 0.7930\n"
     ]
    }
   ],
   "source": [
    "model = models.Sequential()\n",
    "model.add(layers.Dense(64, activation='relu', input_shape=(10000,)))\n",
    "model.add(layers.Dense(64, activation='relu'))\n",
    "model.add(layers.Dense(46, activation='softmax'))\n",
    "model.compile(optimizer='rmsprop',\n",
    "loss='categorical_crossentropy',\n",
    "metrics=['accuracy'])\n",
    "model.fit(partial_x_train,\n",
    "partial_y_train,\n",
    "epochs=16,\n",
    "batch_size=512,\n",
    "validation_data=(x_val, y_val))\n",
    "results = model.evaluate(x_test, one_hot_test_labels)"
   ],
   "metadata": {
    "collapsed": false,
    "ExecuteTime": {
     "end_time": "2024-03-29T08:21:49.087763813Z",
     "start_time": "2024-03-29T08:21:46.376382775Z"
    }
   }
  },
  {
   "cell_type": "code",
   "execution_count": 31,
   "outputs": [
    {
     "data": {
      "text/plain": "[0.9947158694267273, 0.792965292930603]"
     },
     "execution_count": 31,
     "metadata": {},
     "output_type": "execute_result"
    }
   ],
   "source": [
    "results"
   ],
   "metadata": {
    "collapsed": false,
    "ExecuteTime": {
     "end_time": "2024-03-29T08:21:55.631868770Z",
     "start_time": "2024-03-29T08:21:55.630507774Z"
    }
   }
  },
  {
   "cell_type": "code",
   "execution_count": 32,
   "outputs": [
    {
     "data": {
      "text/plain": "0.18744434550311664"
     },
     "execution_count": 32,
     "metadata": {},
     "output_type": "execute_result"
    }
   ],
   "source": [
    "import copy\n",
    "test_labels_copy = copy.copy(test_labels)\n",
    "np.random.shuffle(test_labels_copy)\n",
    "hits_array = np.array(test_labels) == np.array(test_labels_copy)\n",
    "float(np.sum(hits_array)) / len(test_labels)"
   ],
   "metadata": {
    "collapsed": false,
    "ExecuteTime": {
     "end_time": "2024-03-29T08:23:14.916813048Z",
     "start_time": "2024-03-29T08:23:14.872708708Z"
    }
   }
  },
  {
   "cell_type": "code",
   "execution_count": 33,
   "outputs": [
    {
     "name": "stdout",
     "output_type": "stream",
     "text": [
      "71/71 [==============================] - 0s 837us/step\n"
     ]
    }
   ],
   "source": [
    "predictions = model.predict(x_test)"
   ],
   "metadata": {
    "collapsed": false,
    "ExecuteTime": {
     "end_time": "2024-03-29T08:23:48.240884882Z",
     "start_time": "2024-03-29T08:23:47.989427069Z"
    }
   }
  },
  {
   "cell_type": "code",
   "execution_count": 34,
   "outputs": [
    {
     "data": {
      "text/plain": "(2246, 46)"
     },
     "execution_count": 34,
     "metadata": {},
     "output_type": "execute_result"
    }
   ],
   "source": [
    "predictions.shape"
   ],
   "metadata": {
    "collapsed": false,
    "ExecuteTime": {
     "end_time": "2024-03-29T08:24:13.209790818Z",
     "start_time": "2024-03-29T08:24:13.160458226Z"
    }
   }
  },
  {
   "cell_type": "code",
   "execution_count": 35,
   "outputs": [
    {
     "data": {
      "text/plain": "array([1.08293452e-05, 1.12706596e-06, 9.24490962e-07, 9.87341106e-01,\n       1.13013145e-02, 1.13621752e-06, 1.48323970e-05, 4.16739067e-06,\n       2.39794274e-04, 2.66289067e-06, 3.27577909e-05, 1.19789020e-05,\n       6.45358114e-07, 3.63039086e-04, 7.48793082e-06, 1.77533684e-06,\n       8.28295160e-05, 1.37849167e-06, 3.50693313e-06, 1.24723781e-04,\n       2.35050873e-04, 1.40252178e-05, 3.67382370e-07, 2.70725877e-06,\n       1.04992544e-07, 6.56969587e-06, 5.53155473e-07, 1.48896765e-06,\n       3.67948837e-06, 3.60076338e-05, 5.43096621e-06, 8.26320684e-06,\n       2.66983807e-06, 6.62248567e-06, 7.43331657e-06, 8.30239856e-07,\n       2.06969544e-05, 2.33522132e-06, 7.28339671e-07, 5.12431470e-05,\n       1.67432191e-07, 3.11568074e-05, 1.24881299e-05, 8.74870665e-09,\n       5.05710432e-07, 7.39276174e-07], dtype=float32)"
     },
     "execution_count": 35,
     "metadata": {},
     "output_type": "execute_result"
    }
   ],
   "source": [
    "predictions[0]"
   ],
   "metadata": {
    "collapsed": false,
    "ExecuteTime": {
     "end_time": "2024-03-29T08:24:26.914897791Z",
     "start_time": "2024-03-29T08:24:26.910530091Z"
    }
   }
  },
  {
   "cell_type": "code",
   "execution_count": 36,
   "outputs": [
    {
     "data": {
      "text/plain": "0.99999994"
     },
     "execution_count": 36,
     "metadata": {},
     "output_type": "execute_result"
    }
   ],
   "source": [
    "np.sum(predictions[0])"
   ],
   "metadata": {
    "collapsed": false,
    "ExecuteTime": {
     "end_time": "2024-03-29T08:24:50.257470251Z",
     "start_time": "2024-03-29T08:24:50.201201398Z"
    }
   }
  },
  {
   "cell_type": "code",
   "execution_count": 37,
   "outputs": [
    {
     "data": {
      "text/plain": "3"
     },
     "execution_count": 37,
     "metadata": {},
     "output_type": "execute_result"
    }
   ],
   "source": [
    "np.argmax(predictions[0])"
   ],
   "metadata": {
    "collapsed": false,
    "ExecuteTime": {
     "end_time": "2024-03-29T08:25:02.169991252Z",
     "start_time": "2024-03-29T08:25:02.165707808Z"
    }
   }
  },
  {
   "cell_type": "code",
   "execution_count": null,
   "outputs": [],
   "source": [],
   "metadata": {
    "collapsed": false
   }
  }
 ],
 "metadata": {
  "kernelspec": {
   "display_name": "Python 3",
   "language": "python",
   "name": "python3"
  },
  "language_info": {
   "codemirror_mode": {
    "name": "ipython",
    "version": 2
   },
   "file_extension": ".py",
   "mimetype": "text/x-python",
   "name": "python",
   "nbconvert_exporter": "python",
   "pygments_lexer": "ipython2",
   "version": "2.7.6"
  }
 },
 "nbformat": 4,
 "nbformat_minor": 0
}
